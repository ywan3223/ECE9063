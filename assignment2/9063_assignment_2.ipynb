{
  "nbformat": 4,
  "nbformat_minor": 0,
  "metadata": {
    "colab": {
      "provenance": []
    },
    "kernelspec": {
      "name": "python3",
      "display_name": "Python 3"
    },
    "language_info": {
      "name": "python"
    }
  },
  "cells": [
    {
      "cell_type": "code",
      "execution_count": 55,
      "metadata": {
        "id": "XzEoQi8765el"
      },
      "outputs": [],
      "source": [
        "import numpy as np \n",
        "import pandas as pd \n",
        "from sklearn.model_selection import train_test_split\n",
        "from sklearn.preprocessing import StandardScaler\n",
        "\n",
        "from sklearn.metrics import accuracy_score\n",
        "from sklearn.metrics import confusion_matrix\n",
        "\n",
        "import keras\n",
        "from keras.models import Sequential\n",
        "from keras.layers import Dense\n",
        "from keras.layers import LeakyReLU, PReLU, ELU\n",
        "from keras.layers import Dropout\n",
        "\n",
        "import matplotlib.pyplot as plt\n",
        "import seaborn as sns\n",
        "import tensorflow as tf"
      ]
    },
    {
      "cell_type": "code",
      "source": [
        "# read the files\n",
        "data = pd.read_csv('../Churn_Modelling.csv')"
      ],
      "metadata": {
        "id": "olYHbV9bapmE"
      },
      "execution_count": 56,
      "outputs": []
    },
    {
      "cell_type": "code",
      "source": [
        "data.head(5)"
      ],
      "metadata": {
        "colab": {
          "base_uri": "https://localhost:8080/",
          "height": 206
        },
        "id": "0RAGwOsEcWvD",
        "outputId": "a84ded60-9a46-414f-f1b2-90f95bcb373f"
      },
      "execution_count": null,
      "outputs": [
        {
          "output_type": "execute_result",
          "data": {
            "text/plain": [
              "   RowNumber  CustomerId   Surname  CreditScore Geography  Gender  Age  \\\n",
              "0          1    15634602  Hargrave          619    France  Female   42   \n",
              "1          2    15647311      Hill          608     Spain  Female   41   \n",
              "2          3    15619304      Onio          502    France  Female   42   \n",
              "3          4    15701354      Boni          699    France  Female   39   \n",
              "4          5    15737888  Mitchell          850     Spain  Female   43   \n",
              "\n",
              "   Tenure    Balance  NumOfProducts  HasCrCard  IsActiveMember  \\\n",
              "0       2       0.00              1          1               1   \n",
              "1       1   83807.86              1          0               1   \n",
              "2       8  159660.80              3          1               0   \n",
              "3       1       0.00              2          0               0   \n",
              "4       2  125510.82              1          1               1   \n",
              "\n",
              "   EstimatedSalary  Exited  \n",
              "0        101348.88       1  \n",
              "1        112542.58       0  \n",
              "2        113931.57       1  \n",
              "3         93826.63       0  \n",
              "4         79084.10       0  "
            ],
            "text/html": [
              "\n",
              "  <div id=\"df-bfe0f87f-b304-4147-8175-5572b4e34a33\">\n",
              "    <div class=\"colab-df-container\">\n",
              "      <div>\n",
              "<style scoped>\n",
              "    .dataframe tbody tr th:only-of-type {\n",
              "        vertical-align: middle;\n",
              "    }\n",
              "\n",
              "    .dataframe tbody tr th {\n",
              "        vertical-align: top;\n",
              "    }\n",
              "\n",
              "    .dataframe thead th {\n",
              "        text-align: right;\n",
              "    }\n",
              "</style>\n",
              "<table border=\"1\" class=\"dataframe\">\n",
              "  <thead>\n",
              "    <tr style=\"text-align: right;\">\n",
              "      <th></th>\n",
              "      <th>RowNumber</th>\n",
              "      <th>CustomerId</th>\n",
              "      <th>Surname</th>\n",
              "      <th>CreditScore</th>\n",
              "      <th>Geography</th>\n",
              "      <th>Gender</th>\n",
              "      <th>Age</th>\n",
              "      <th>Tenure</th>\n",
              "      <th>Balance</th>\n",
              "      <th>NumOfProducts</th>\n",
              "      <th>HasCrCard</th>\n",
              "      <th>IsActiveMember</th>\n",
              "      <th>EstimatedSalary</th>\n",
              "      <th>Exited</th>\n",
              "    </tr>\n",
              "  </thead>\n",
              "  <tbody>\n",
              "    <tr>\n",
              "      <th>0</th>\n",
              "      <td>1</td>\n",
              "      <td>15634602</td>\n",
              "      <td>Hargrave</td>\n",
              "      <td>619</td>\n",
              "      <td>France</td>\n",
              "      <td>Female</td>\n",
              "      <td>42</td>\n",
              "      <td>2</td>\n",
              "      <td>0.00</td>\n",
              "      <td>1</td>\n",
              "      <td>1</td>\n",
              "      <td>1</td>\n",
              "      <td>101348.88</td>\n",
              "      <td>1</td>\n",
              "    </tr>\n",
              "    <tr>\n",
              "      <th>1</th>\n",
              "      <td>2</td>\n",
              "      <td>15647311</td>\n",
              "      <td>Hill</td>\n",
              "      <td>608</td>\n",
              "      <td>Spain</td>\n",
              "      <td>Female</td>\n",
              "      <td>41</td>\n",
              "      <td>1</td>\n",
              "      <td>83807.86</td>\n",
              "      <td>1</td>\n",
              "      <td>0</td>\n",
              "      <td>1</td>\n",
              "      <td>112542.58</td>\n",
              "      <td>0</td>\n",
              "    </tr>\n",
              "    <tr>\n",
              "      <th>2</th>\n",
              "      <td>3</td>\n",
              "      <td>15619304</td>\n",
              "      <td>Onio</td>\n",
              "      <td>502</td>\n",
              "      <td>France</td>\n",
              "      <td>Female</td>\n",
              "      <td>42</td>\n",
              "      <td>8</td>\n",
              "      <td>159660.80</td>\n",
              "      <td>3</td>\n",
              "      <td>1</td>\n",
              "      <td>0</td>\n",
              "      <td>113931.57</td>\n",
              "      <td>1</td>\n",
              "    </tr>\n",
              "    <tr>\n",
              "      <th>3</th>\n",
              "      <td>4</td>\n",
              "      <td>15701354</td>\n",
              "      <td>Boni</td>\n",
              "      <td>699</td>\n",
              "      <td>France</td>\n",
              "      <td>Female</td>\n",
              "      <td>39</td>\n",
              "      <td>1</td>\n",
              "      <td>0.00</td>\n",
              "      <td>2</td>\n",
              "      <td>0</td>\n",
              "      <td>0</td>\n",
              "      <td>93826.63</td>\n",
              "      <td>0</td>\n",
              "    </tr>\n",
              "    <tr>\n",
              "      <th>4</th>\n",
              "      <td>5</td>\n",
              "      <td>15737888</td>\n",
              "      <td>Mitchell</td>\n",
              "      <td>850</td>\n",
              "      <td>Spain</td>\n",
              "      <td>Female</td>\n",
              "      <td>43</td>\n",
              "      <td>2</td>\n",
              "      <td>125510.82</td>\n",
              "      <td>1</td>\n",
              "      <td>1</td>\n",
              "      <td>1</td>\n",
              "      <td>79084.10</td>\n",
              "      <td>0</td>\n",
              "    </tr>\n",
              "  </tbody>\n",
              "</table>\n",
              "</div>\n",
              "      <button class=\"colab-df-convert\" onclick=\"convertToInteractive('df-bfe0f87f-b304-4147-8175-5572b4e34a33')\"\n",
              "              title=\"Convert this dataframe to an interactive table.\"\n",
              "              style=\"display:none;\">\n",
              "        \n",
              "  <svg xmlns=\"http://www.w3.org/2000/svg\" height=\"24px\"viewBox=\"0 0 24 24\"\n",
              "       width=\"24px\">\n",
              "    <path d=\"M0 0h24v24H0V0z\" fill=\"none\"/>\n",
              "    <path d=\"M18.56 5.44l.94 2.06.94-2.06 2.06-.94-2.06-.94-.94-2.06-.94 2.06-2.06.94zm-11 1L8.5 8.5l.94-2.06 2.06-.94-2.06-.94L8.5 2.5l-.94 2.06-2.06.94zm10 10l.94 2.06.94-2.06 2.06-.94-2.06-.94-.94-2.06-.94 2.06-2.06.94z\"/><path d=\"M17.41 7.96l-1.37-1.37c-.4-.4-.92-.59-1.43-.59-.52 0-1.04.2-1.43.59L10.3 9.45l-7.72 7.72c-.78.78-.78 2.05 0 2.83L4 21.41c.39.39.9.59 1.41.59.51 0 1.02-.2 1.41-.59l7.78-7.78 2.81-2.81c.8-.78.8-2.07 0-2.86zM5.41 20L4 18.59l7.72-7.72 1.47 1.35L5.41 20z\"/>\n",
              "  </svg>\n",
              "      </button>\n",
              "      \n",
              "  <style>\n",
              "    .colab-df-container {\n",
              "      display:flex;\n",
              "      flex-wrap:wrap;\n",
              "      gap: 12px;\n",
              "    }\n",
              "\n",
              "    .colab-df-convert {\n",
              "      background-color: #E8F0FE;\n",
              "      border: none;\n",
              "      border-radius: 50%;\n",
              "      cursor: pointer;\n",
              "      display: none;\n",
              "      fill: #1967D2;\n",
              "      height: 32px;\n",
              "      padding: 0 0 0 0;\n",
              "      width: 32px;\n",
              "    }\n",
              "\n",
              "    .colab-df-convert:hover {\n",
              "      background-color: #E2EBFA;\n",
              "      box-shadow: 0px 1px 2px rgba(60, 64, 67, 0.3), 0px 1px 3px 1px rgba(60, 64, 67, 0.15);\n",
              "      fill: #174EA6;\n",
              "    }\n",
              "\n",
              "    [theme=dark] .colab-df-convert {\n",
              "      background-color: #3B4455;\n",
              "      fill: #D2E3FC;\n",
              "    }\n",
              "\n",
              "    [theme=dark] .colab-df-convert:hover {\n",
              "      background-color: #434B5C;\n",
              "      box-shadow: 0px 1px 3px 1px rgba(0, 0, 0, 0.15);\n",
              "      filter: drop-shadow(0px 1px 2px rgba(0, 0, 0, 0.3));\n",
              "      fill: #FFFFFF;\n",
              "    }\n",
              "  </style>\n",
              "\n",
              "      <script>\n",
              "        const buttonEl =\n",
              "          document.querySelector('#df-bfe0f87f-b304-4147-8175-5572b4e34a33 button.colab-df-convert');\n",
              "        buttonEl.style.display =\n",
              "          google.colab.kernel.accessAllowed ? 'block' : 'none';\n",
              "\n",
              "        async function convertToInteractive(key) {\n",
              "          const element = document.querySelector('#df-bfe0f87f-b304-4147-8175-5572b4e34a33');\n",
              "          const dataTable =\n",
              "            await google.colab.kernel.invokeFunction('convertToInteractive',\n",
              "                                                     [key], {});\n",
              "          if (!dataTable) return;\n",
              "\n",
              "          const docLinkHtml = 'Like what you see? Visit the ' +\n",
              "            '<a target=\"_blank\" href=https://colab.research.google.com/notebooks/data_table.ipynb>data table notebook</a>'\n",
              "            + ' to learn more about interactive tables.';\n",
              "          element.innerHTML = '';\n",
              "          dataTable['output_type'] = 'display_data';\n",
              "          await google.colab.output.renderOutput(dataTable, element);\n",
              "          const docLink = document.createElement('div');\n",
              "          docLink.innerHTML = docLinkHtml;\n",
              "          element.appendChild(docLink);\n",
              "        }\n",
              "      </script>\n",
              "    </div>\n",
              "  </div>\n",
              "  "
            ]
          },
          "metadata": {},
          "execution_count": 3
        }
      ]
    },
    {
      "cell_type": "code",
      "source": [
        "# visualizing categorical variables\n",
        "\n",
        "fig, ax = plt.subplots(3, 2, figsize = (18, 15))\n",
        "\n",
        "sns.countplot('Geography', hue = 'Exited', data = data, ax = ax[0][0])\n",
        "sns.countplot('Gender', hue = 'Exited', data = data, ax = ax[0][1])\n",
        "sns.countplot('Tenure', hue = 'Exited', data = data, ax = ax[1][0])\n",
        "sns.countplot('NumOfProducts', hue = 'Exited', data = data, ax = ax[1][1])\n",
        "sns.countplot('HasCrCard', hue = 'Exited', data = data, ax = ax[2][0])\n",
        "sns.countplot('IsActiveMember', hue = 'Exited', data = data, ax = ax[2][1])\n",
        "\n",
        "plt.tight_layout()\n",
        "plt.show()"
      ],
      "metadata": {
        "id": "r6gx8NVQ_yaD",
        "colab": {
          "base_uri": "https://localhost:8080/",
          "height": 1000
        },
        "outputId": "cc5489cf-9650-4260-f0ca-4b005ade8d7b"
      },
      "execution_count": null,
      "outputs": [
        {
          "output_type": "stream",
          "name": "stderr",
          "text": [
            "/usr/local/lib/python3.7/dist-packages/seaborn/_decorators.py:43: FutureWarning: Pass the following variable as a keyword arg: x. From version 0.12, the only valid positional argument will be `data`, and passing other arguments without an explicit keyword will result in an error or misinterpretation.\n",
            "  FutureWarning\n",
            "/usr/local/lib/python3.7/dist-packages/seaborn/_decorators.py:43: FutureWarning: Pass the following variable as a keyword arg: x. From version 0.12, the only valid positional argument will be `data`, and passing other arguments without an explicit keyword will result in an error or misinterpretation.\n",
            "  FutureWarning\n",
            "/usr/local/lib/python3.7/dist-packages/seaborn/_decorators.py:43: FutureWarning: Pass the following variable as a keyword arg: x. From version 0.12, the only valid positional argument will be `data`, and passing other arguments without an explicit keyword will result in an error or misinterpretation.\n",
            "  FutureWarning\n",
            "/usr/local/lib/python3.7/dist-packages/seaborn/_decorators.py:43: FutureWarning: Pass the following variable as a keyword arg: x. From version 0.12, the only valid positional argument will be `data`, and passing other arguments without an explicit keyword will result in an error or misinterpretation.\n",
            "  FutureWarning\n",
            "/usr/local/lib/python3.7/dist-packages/seaborn/_decorators.py:43: FutureWarning: Pass the following variable as a keyword arg: x. From version 0.12, the only valid positional argument will be `data`, and passing other arguments without an explicit keyword will result in an error or misinterpretation.\n",
            "  FutureWarning\n",
            "/usr/local/lib/python3.7/dist-packages/seaborn/_decorators.py:43: FutureWarning: Pass the following variable as a keyword arg: x. From version 0.12, the only valid positional argument will be `data`, and passing other arguments without an explicit keyword will result in an error or misinterpretation.\n",
            "  FutureWarning\n"
          ]
        },
        {
          "output_type": "display_data",
          "data": {
            "text/plain": [
              "<Figure size 1296x1080 with 6 Axes>"
            ],
            "image/png": "[encoded data removed]"
          },
          "metadata": {
            "needs_background": "light"
          }
        }
      ]
    },
    {
      "cell_type": "markdown",
      "source": [
        "### pre-processsing"
      ],
      "metadata": {
        "id": "PCCc4KkZAOco"
      }
    },
    {
      "cell_type": "code",
      "source": [
        "# check for missing values\n",
        "data.isnull().any()"
      ],
      "metadata": {
        "colab": {
          "base_uri": "https://localhost:8080/"
        },
        "id": "VVPVwfVNUKYx",
        "outputId": "0a6ff84f-cf6e-4df2-8fb1-9a4bfc740147"
      },
      "execution_count": null,
      "outputs": [
        {
          "output_type": "execute_result",
          "data": {
            "text/plain": [
              "RowNumber          False\n",
              "CustomerId         False\n",
              "Surname            False\n",
              "CreditScore        False\n",
              "Geography          False\n",
              "Gender             False\n",
              "Age                False\n",
              "Tenure             False\n",
              "Balance            False\n",
              "NumOfProducts      False\n",
              "HasCrCard          False\n",
              "IsActiveMember     False\n",
              "EstimatedSalary    False\n",
              "Exited             False\n",
              "dtype: bool"
            ]
          },
          "metadata": {},
          "execution_count": 32
        }
      ]
    },
    {
      "cell_type": "code",
      "source": [
        "# dropping useless columns \n",
        "\n",
        "data.drop(columns = ['RowNumber', 'CustomerId', 'Surname'], axis = 1, inplace = True)\n",
        "data.head()"
      ],
      "metadata": {
        "colab": {
          "base_uri": "https://localhost:8080/",
          "height": 204
        },
        "id": "eMmnCSQW87R5",
        "outputId": "976e9c22-d57d-4902-f3c4-7c04eca458fd"
      },
      "execution_count": null,
      "outputs": [
        {
          "output_type": "execute_result",
          "data": {
            "text/plain": [
              "   CreditScore Geography  Gender  Age  Tenure    Balance  NumOfProducts  \\\n",
              "0          619    France  Female   42       2       0.00              1   \n",
              "1          608     Spain  Female   41       1   83807.86              1   \n",
              "2          502    France  Female   42       8  159660.80              3   \n",
              "3          699    France  Female   39       1       0.00              2   \n",
              "4          850     Spain  Female   43       2  125510.82              1   \n",
              "\n",
              "   HasCrCard  IsActiveMember  EstimatedSalary  Exited  \n",
              "0          1               1        101348.88       1  \n",
              "1          0               1        112542.58       0  \n",
              "2          1               0        113931.57       1  \n",
              "3          0               0         93826.63       0  \n",
              "4          1               1         79084.10       0  "
            ],
            "text/html": [
              "\n",
              "  <div id=\"df-39303bfe-8393-4e4d-b0b4-4d59276a9aea\">\n",
              "    <div class=\"colab-df-container\">\n",
              "      <div>\n",
              "<style scoped>\n",
              "    .dataframe tbody tr th:only-of-type {\n",
              "        vertical-align: middle;\n",
              "    }\n",
              "\n",
              "    .dataframe tbody tr th {\n",
              "        vertical-align: top;\n",
              "    }\n",
              "\n",
              "    .dataframe thead th {\n",
              "        text-align: right;\n",
              "    }\n",
              "</style>\n",
              "<table border=\"1\" class=\"dataframe\">\n",
              "  <thead>\n",
              "    <tr style=\"text-align: right;\">\n",
              "      <th></th>\n",
              "      <th>CreditScore</th>\n",
              "      <th>Geography</th>\n",
              "      <th>Gender</th>\n",
              "      <th>Age</th>\n",
              "      <th>Tenure</th>\n",
              "      <th>Balance</th>\n",
              "      <th>NumOfProducts</th>\n",
              "      <th>HasCrCard</th>\n",
              "      <th>IsActiveMember</th>\n",
              "      <th>EstimatedSalary</th>\n",
              "      <th>Exited</th>\n",
              "    </tr>\n",
              "  </thead>\n",
              "  <tbody>\n",
              "    <tr>\n",
              "      <th>0</th>\n",
              "      <td>619</td>\n",
              "      <td>France</td>\n",
              "      <td>Female</td>\n",
              "      <td>42</td>\n",
              "      <td>2</td>\n",
              "      <td>0.00</td>\n",
              "      <td>1</td>\n",
              "      <td>1</td>\n",
              "      <td>1</td>\n",
              "      <td>101348.88</td>\n",
              "      <td>1</td>\n",
              "    </tr>\n",
              "    <tr>\n",
              "      <th>1</th>\n",
              "      <td>608</td>\n",
              "      <td>Spain</td>\n",
              "      <td>Female</td>\n",
              "      <td>41</td>\n",
              "      <td>1</td>\n",
              "      <td>83807.86</td>\n",
              "      <td>1</td>\n",
              "      <td>0</td>\n",
              "      <td>1</td>\n",
              "      <td>112542.58</td>\n",
              "      <td>0</td>\n",
              "    </tr>\n",
              "    <tr>\n",
              "      <th>2</th>\n",
              "      <td>502</td>\n",
              "      <td>France</td>\n",
              "      <td>Female</td>\n",
              "      <td>42</td>\n",
              "      <td>8</td>\n",
              "      <td>159660.80</td>\n",
              "      <td>3</td>\n",
              "      <td>1</td>\n",
              "      <td>0</td>\n",
              "      <td>113931.57</td>\n",
              "      <td>1</td>\n",
              "    </tr>\n",
              "    <tr>\n",
              "      <th>3</th>\n",
              "      <td>699</td>\n",
              "      <td>France</td>\n",
              "      <td>Female</td>\n",
              "      <td>39</td>\n",
              "      <td>1</td>\n",
              "      <td>0.00</td>\n",
              "      <td>2</td>\n",
              "      <td>0</td>\n",
              "      <td>0</td>\n",
              "      <td>93826.63</td>\n",
              "      <td>0</td>\n",
              "    </tr>\n",
              "    <tr>\n",
              "      <th>4</th>\n",
              "      <td>850</td>\n",
              "      <td>Spain</td>\n",
              "      <td>Female</td>\n",
              "      <td>43</td>\n",
              "      <td>2</td>\n",
              "      <td>125510.82</td>\n",
              "      <td>1</td>\n",
              "      <td>1</td>\n",
              "      <td>1</td>\n",
              "      <td>79084.10</td>\n",
              "      <td>0</td>\n",
              "    </tr>\n",
              "  </tbody>\n",
              "</table>\n",
              "</div>\n",
              "      <button class=\"colab-df-convert\" onclick=\"convertToInteractive('df-39303bfe-8393-4e4d-b0b4-4d59276a9aea')\"\n",
              "              title=\"Convert this dataframe to an interactive table.\"\n",
              "              style=\"display:none;\">\n",
              "        \n",
              "  <svg xmlns=\"http://www.w3.org/2000/svg\" height=\"24px\"viewBox=\"0 0 24 24\"\n",
              "       width=\"24px\">\n",
              "    <path d=\"M0 0h24v24H0V0z\" fill=\"none\"/>\n",
              "    <path d=\"M18.56 5.44l.94 2.06.94-2.06 2.06-.94-2.06-.94-.94-2.06-.94 2.06-2.06.94zm-11 1L8.5 8.5l.94-2.06 2.06-.94-2.06-.94L8.5 2.5l-.94 2.06-2.06.94zm10 10l.94 2.06.94-2.06 2.06-.94-2.06-.94-.94-2.06-.94 2.06-2.06.94z\"/><path d=\"M17.41 7.96l-1.37-1.37c-.4-.4-.92-.59-1.43-.59-.52 0-1.04.2-1.43.59L10.3 9.45l-7.72 7.72c-.78.78-.78 2.05 0 2.83L4 21.41c.39.39.9.59 1.41.59.51 0 1.02-.2 1.41-.59l7.78-7.78 2.81-2.81c.8-.78.8-2.07 0-2.86zM5.41 20L4 18.59l7.72-7.72 1.47 1.35L5.41 20z\"/>\n",
              "  </svg>\n",
              "      </button>\n",
              "      \n",
              "  <style>\n",
              "    .colab-df-container {\n",
              "      display:flex;\n",
              "      flex-wrap:wrap;\n",
              "      gap: 12px;\n",
              "    }\n",
              "\n",
              "    .colab-df-convert {\n",
              "      background-color: #E8F0FE;\n",
              "      border: none;\n",
              "      border-radius: 50%;\n",
              "      cursor: pointer;\n",
              "      display: none;\n",
              "      fill: #1967D2;\n",
              "      height: 32px;\n",
              "      padding: 0 0 0 0;\n",
              "      width: 32px;\n",
              "    }\n",
              "\n",
              "    .colab-df-convert:hover {\n",
              "      background-color: #E2EBFA;\n",
              "      box-shadow: 0px 1px 2px rgba(60, 64, 67, 0.3), 0px 1px 3px 1px rgba(60, 64, 67, 0.15);\n",
              "      fill: #174EA6;\n",
              "    }\n",
              "\n",
              "    [theme=dark] .colab-df-convert {\n",
              "      background-color: #3B4455;\n",
              "      fill: #D2E3FC;\n",
              "    }\n",
              "\n",
              "    [theme=dark] .colab-df-convert:hover {\n",
              "      background-color: #434B5C;\n",
              "      box-shadow: 0px 1px 3px 1px rgba(0, 0, 0, 0.15);\n",
              "      filter: drop-shadow(0px 1px 2px rgba(0, 0, 0, 0.3));\n",
              "      fill: #FFFFFF;\n",
              "    }\n",
              "  </style>\n",
              "\n",
              "      <script>\n",
              "        const buttonEl =\n",
              "          document.querySelector('#df-39303bfe-8393-4e4d-b0b4-4d59276a9aea button.colab-df-convert');\n",
              "        buttonEl.style.display =\n",
              "          google.colab.kernel.accessAllowed ? 'block' : 'none';\n",
              "\n",
              "        async function convertToInteractive(key) {\n",
              "          const element = document.querySelector('#df-39303bfe-8393-4e4d-b0b4-4d59276a9aea');\n",
              "          const dataTable =\n",
              "            await google.colab.kernel.invokeFunction('convertToInteractive',\n",
              "                                                     [key], {});\n",
              "          if (!dataTable) return;\n",
              "\n",
              "          const docLinkHtml = 'Like what you see? Visit the ' +\n",
              "            '<a target=\"_blank\" href=https://colab.research.google.com/notebooks/data_table.ipynb>data table notebook</a>'\n",
              "            + ' to learn more about interactive tables.';\n",
              "          element.innerHTML = '';\n",
              "          dataTable['output_type'] = 'display_data';\n",
              "          await google.colab.output.renderOutput(dataTable, element);\n",
              "          const docLink = document.createElement('div');\n",
              "          docLink.innerHTML = docLinkHtml;\n",
              "          element.appendChild(docLink);\n",
              "        }\n",
              "      </script>\n",
              "    </div>\n",
              "  </div>\n",
              "  "
            ]
          },
          "metadata": {},
          "execution_count": 33
        }
      ]
    },
    {
      "cell_type": "code",
      "source": [
        "data.Geography.value_counts()"
      ],
      "metadata": {
        "colab": {
          "base_uri": "https://localhost:8080/"
        },
        "id": "Zs-vMmAe9Kuc",
        "outputId": "5f9e50e6-e9d3-4f4d-9dd5-8d82cf4bfa98"
      },
      "execution_count": null,
      "outputs": [
        {
          "output_type": "execute_result",
          "data": {
            "text/plain": [
              "France     5014\n",
              "Germany    2509\n",
              "Spain      2477\n",
              "Name: Geography, dtype: int64"
            ]
          },
          "metadata": {},
          "execution_count": 34
        }
      ]
    },
    {
      "cell_type": "code",
      "source": [
        "# Encoding categorical variables\n",
        "\n",
        "data['Geography'] = data['Geography'].map({'France' : 0, 'Germany' : 1, 'Spain' : 2})\n",
        "data['Gender'] = data['Gender'].map({'Male' : 0, 'Female' : 1})"
      ],
      "metadata": {
        "id": "XlzXle1I9Os3"
      },
      "execution_count": null,
      "outputs": []
    },
    {
      "cell_type": "code",
      "source": [
        "data.head(5)"
      ],
      "metadata": {
        "colab": {
          "base_uri": "https://localhost:8080/",
          "height": 204
        },
        "id": "zfgq0omvgOBI",
        "outputId": "344f18fa-2e2f-48ad-dfda-d0a68d516d74"
      },
      "execution_count": null,
      "outputs": [
        {
          "output_type": "execute_result",
          "data": {
            "text/plain": [
              "   CreditScore  Geography  Gender  Age  Tenure    Balance  NumOfProducts  \\\n",
              "0          619          0       1   42       2       0.00              1   \n",
              "1          608          2       1   41       1   83807.86              1   \n",
              "2          502          0       1   42       8  159660.80              3   \n",
              "3          699          0       1   39       1       0.00              2   \n",
              "4          850          2       1   43       2  125510.82              1   \n",
              "\n",
              "   HasCrCard  IsActiveMember  EstimatedSalary  Exited  \n",
              "0          1               1        101348.88       1  \n",
              "1          0               1        112542.58       0  \n",
              "2          1               0        113931.57       1  \n",
              "3          0               0         93826.63       0  \n",
              "4          1               1         79084.10       0  "
            ],
            "text/html": [
              "\n",
              "  <div id=\"df-c3545fcc-2c54-4919-b373-1f96ef764ba6\">\n",
              "    <div class=\"colab-df-container\">\n",
              "      <div>\n",
              "<style scoped>\n",
              "    .dataframe tbody tr th:only-of-type {\n",
              "        vertical-align: middle;\n",
              "    }\n",
              "\n",
              "    .dataframe tbody tr th {\n",
              "        vertical-align: top;\n",
              "    }\n",
              "\n",
              "    .dataframe thead th {\n",
              "        text-align: right;\n",
              "    }\n",
              "</style>\n",
              "<table border=\"1\" class=\"dataframe\">\n",
              "  <thead>\n",
              "    <tr style=\"text-align: right;\">\n",
              "      <th></th>\n",
              "      <th>CreditScore</th>\n",
              "      <th>Geography</th>\n",
              "      <th>Gender</th>\n",
              "      <th>Age</th>\n",
              "      <th>Tenure</th>\n",
              "      <th>Balance</th>\n",
              "      <th>NumOfProducts</th>\n",
              "      <th>HasCrCard</th>\n",
              "      <th>IsActiveMember</th>\n",
              "      <th>EstimatedSalary</th>\n",
              "      <th>Exited</th>\n",
              "    </tr>\n",
              "  </thead>\n",
              "  <tbody>\n",
              "    <tr>\n",
              "      <th>0</th>\n",
              "      <td>619</td>\n",
              "      <td>0</td>\n",
              "      <td>1</td>\n",
              "      <td>42</td>\n",
              "      <td>2</td>\n",
              "      <td>0.00</td>\n",
              "      <td>1</td>\n",
              "      <td>1</td>\n",
              "      <td>1</td>\n",
              "      <td>101348.88</td>\n",
              "      <td>1</td>\n",
              "    </tr>\n",
              "    <tr>\n",
              "      <th>1</th>\n",
              "      <td>608</td>\n",
              "      <td>2</td>\n",
              "      <td>1</td>\n",
              "      <td>41</td>\n",
              "      <td>1</td>\n",
              "      <td>83807.86</td>\n",
              "      <td>1</td>\n",
              "      <td>0</td>\n",
              "      <td>1</td>\n",
              "      <td>112542.58</td>\n",
              "      <td>0</td>\n",
              "    </tr>\n",
              "    <tr>\n",
              "      <th>2</th>\n",
              "      <td>502</td>\n",
              "      <td>0</td>\n",
              "      <td>1</td>\n",
              "      <td>42</td>\n",
              "      <td>8</td>\n",
              "      <td>159660.80</td>\n",
              "      <td>3</td>\n",
              "      <td>1</td>\n",
              "      <td>0</td>\n",
              "      <td>113931.57</td>\n",
              "      <td>1</td>\n",
              "    </tr>\n",
              "    <tr>\n",
              "      <th>3</th>\n",
              "      <td>699</td>\n",
              "      <td>0</td>\n",
              "      <td>1</td>\n",
              "      <td>39</td>\n",
              "      <td>1</td>\n",
              "      <td>0.00</td>\n",
              "      <td>2</td>\n",
              "      <td>0</td>\n",
              "      <td>0</td>\n",
              "      <td>93826.63</td>\n",
              "      <td>0</td>\n",
              "    </tr>\n",
              "    <tr>\n",
              "      <th>4</th>\n",
              "      <td>850</td>\n",
              "      <td>2</td>\n",
              "      <td>1</td>\n",
              "      <td>43</td>\n",
              "      <td>2</td>\n",
              "      <td>125510.82</td>\n",
              "      <td>1</td>\n",
              "      <td>1</td>\n",
              "      <td>1</td>\n",
              "      <td>79084.10</td>\n",
              "      <td>0</td>\n",
              "    </tr>\n",
              "  </tbody>\n",
              "</table>\n",
              "</div>\n",
              "      <button class=\"colab-df-convert\" onclick=\"convertToInteractive('df-c3545fcc-2c54-4919-b373-1f96ef764ba6')\"\n",
              "              title=\"Convert this dataframe to an interactive table.\"\n",
              "              style=\"display:none;\">\n",
              "        \n",
              "  <svg xmlns=\"http://www.w3.org/2000/svg\" height=\"24px\"viewBox=\"0 0 24 24\"\n",
              "       width=\"24px\">\n",
              "    <path d=\"M0 0h24v24H0V0z\" fill=\"none\"/>\n",
              "    <path d=\"M18.56 5.44l.94 2.06.94-2.06 2.06-.94-2.06-.94-.94-2.06-.94 2.06-2.06.94zm-11 1L8.5 8.5l.94-2.06 2.06-.94-2.06-.94L8.5 2.5l-.94 2.06-2.06.94zm10 10l.94 2.06.94-2.06 2.06-.94-2.06-.94-.94-2.06-.94 2.06-2.06.94z\"/><path d=\"M17.41 7.96l-1.37-1.37c-.4-.4-.92-.59-1.43-.59-.52 0-1.04.2-1.43.59L10.3 9.45l-7.72 7.72c-.78.78-.78 2.05 0 2.83L4 21.41c.39.39.9.59 1.41.59.51 0 1.02-.2 1.41-.59l7.78-7.78 2.81-2.81c.8-.78.8-2.07 0-2.86zM5.41 20L4 18.59l7.72-7.72 1.47 1.35L5.41 20z\"/>\n",
              "  </svg>\n",
              "      </button>\n",
              "      \n",
              "  <style>\n",
              "    .colab-df-container {\n",
              "      display:flex;\n",
              "      flex-wrap:wrap;\n",
              "      gap: 12px;\n",
              "    }\n",
              "\n",
              "    .colab-df-convert {\n",
              "      background-color: #E8F0FE;\n",
              "      border: none;\n",
              "      border-radius: 50%;\n",
              "      cursor: pointer;\n",
              "      display: none;\n",
              "      fill: #1967D2;\n",
              "      height: 32px;\n",
              "      padding: 0 0 0 0;\n",
              "      width: 32px;\n",
              "    }\n",
              "\n",
              "    .colab-df-convert:hover {\n",
              "      background-color: #E2EBFA;\n",
              "      box-shadow: 0px 1px 2px rgba(60, 64, 67, 0.3), 0px 1px 3px 1px rgba(60, 64, 67, 0.15);\n",
              "      fill: #174EA6;\n",
              "    }\n",
              "\n",
              "    [theme=dark] .colab-df-convert {\n",
              "      background-color: #3B4455;\n",
              "      fill: #D2E3FC;\n",
              "    }\n",
              "\n",
              "    [theme=dark] .colab-df-convert:hover {\n",
              "      background-color: #434B5C;\n",
              "      box-shadow: 0px 1px 3px 1px rgba(0, 0, 0, 0.15);\n",
              "      filter: drop-shadow(0px 1px 2px rgba(0, 0, 0, 0.3));\n",
              "      fill: #FFFFFF;\n",
              "    }\n",
              "  </style>\n",
              "\n",
              "      <script>\n",
              "        const buttonEl =\n",
              "          document.querySelector('#df-c3545fcc-2c54-4919-b373-1f96ef764ba6 button.colab-df-convert');\n",
              "        buttonEl.style.display =\n",
              "          google.colab.kernel.accessAllowed ? 'block' : 'none';\n",
              "\n",
              "        async function convertToInteractive(key) {\n",
              "          const element = document.querySelector('#df-c3545fcc-2c54-4919-b373-1f96ef764ba6');\n",
              "          const dataTable =\n",
              "            await google.colab.kernel.invokeFunction('convertToInteractive',\n",
              "                                                     [key], {});\n",
              "          if (!dataTable) return;\n",
              "\n",
              "          const docLinkHtml = 'Like what you see? Visit the ' +\n",
              "            '<a target=\"_blank\" href=https://colab.research.google.com/notebooks/data_table.ipynb>data table notebook</a>'\n",
              "            + ' to learn more about interactive tables.';\n",
              "          element.innerHTML = '';\n",
              "          dataTable['output_type'] = 'display_data';\n",
              "          await google.colab.output.renderOutput(dataTable, element);\n",
              "          const docLink = document.createElement('div');\n",
              "          docLink.innerHTML = docLinkHtml;\n",
              "          element.appendChild(docLink);\n",
              "        }\n",
              "      </script>\n",
              "    </div>\n",
              "  </div>\n",
              "  "
            ]
          },
          "metadata": {},
          "execution_count": 36
        }
      ]
    },
    {
      "cell_type": "code",
      "source": [
        "from tensorflow.keras.utils import to_categorical\n",
        "\n",
        "x = data.drop('Exited', axis = 1)\n",
        "y = to_categorical(data.Exited)"
      ],
      "metadata": {
        "id": "i-_6YYuQ9U-f"
      },
      "execution_count": null,
      "outputs": []
    },
    {
      "cell_type": "code",
      "source": [
        "# splitting data into training set and test set\n",
        "\n",
        "from sklearn.model_selection import train_test_split\n",
        "x_train, x_test, y_train, y_test = train_test_split(x, y, test_size= 0.2, random_state= 0)"
      ],
      "metadata": {
        "id": "a7bM41sF9dAo"
      },
      "execution_count": null,
      "outputs": []
    },
    {
      "cell_type": "code",
      "source": [
        "# Scaling data\n",
        "\n",
        "from sklearn.preprocessing import StandardScaler\n",
        "\n",
        "sc = StandardScaler()\n",
        "x_train = sc.fit_transform(x_train)\n",
        "x_test = sc.transform(x_test)"
      ],
      "metadata": {
        "id": "lQA54b1E9fgA"
      },
      "execution_count": null,
      "outputs": []
    },
    {
      "cell_type": "markdown",
      "source": [
        "FFNN"
      ],
      "metadata": {
        "id": "CASMjSQW9hSW"
      }
    },
    {
      "cell_type": "code",
      "source": [
        "#Creating Independent Vector\n",
        "X = data.iloc[:, 3:-1].values\n",
        "#Creating Dependent Vector\n",
        "y = data.iloc[:, -1].values"
      ],
      "metadata": {
        "id": "a7m-JBlViUID"
      },
      "execution_count": null,
      "outputs": []
    },
    {
      "cell_type": "code",
      "source": [
        "import keras\n",
        "from keras.models import Sequential\n",
        "from keras.layers import Dense\n",
        "from keras.layers import Dropout\n",
        "from keras.layers import BatchNormalization\n",
        "\n",
        "# initializing ann\n",
        "ann = Sequential()\n",
        "\n",
        "# adding the input layer\n",
        "ann.add(Dense(10, input_shape = (10, )))\n",
        "\n",
        "# add the first hidden layer\n",
        "ann.add(Dense(10, kernel_initializer = 'normal', activation = 'relu',))\n",
        "\n",
        "#dropout & batch normalization\n",
        "ann.add(Dropout(rate = 0.1))\n",
        "ann.add(BatchNormalization())\n",
        "\n",
        "#output layer\n",
        "ann.add(tf.keras.layers.Dense(units= 2, activation='sigmoid'))\n",
        "\n",
        "ann.compile(optimizer= 'rmsprop', loss= 'binary_crossentropy', metrics= ['accuracy'])\n",
        "ann_history = ann.fit(x_train, y_train, batch_size= 32, epochs= 50, validation_split= 0.3)"
      ],
      "metadata": {
        "colab": {
          "base_uri": "https://localhost:8080/"
        },
        "id": "0JykYl9ZQCT3",
        "outputId": "2828a581-70a3-4137-ea2a-1be070b94479"
      },
      "execution_count": null,
      "outputs": [
        {
          "output_type": "stream",
          "name": "stdout",
          "text": [
            "Epoch 1/50\n",
            "175/175 [==============================] - 2s 6ms/step - loss: 0.5950 - accuracy: 0.6930 - val_loss: 0.5156 - val_accuracy: 0.7958\n",
            "Epoch 2/50\n",
            "175/175 [==============================] - 2s 11ms/step - loss: 0.4616 - accuracy: 0.8066 - val_loss: 0.4493 - val_accuracy: 0.7971\n",
            "Epoch 3/50\n",
            "175/175 [==============================] - 1s 3ms/step - loss: 0.4215 - accuracy: 0.8223 - val_loss: 0.4179 - val_accuracy: 0.8192\n",
            "Epoch 4/50\n",
            "175/175 [==============================] - 1s 3ms/step - loss: 0.4047 - accuracy: 0.8339 - val_loss: 0.4103 - val_accuracy: 0.8275\n",
            "Epoch 5/50\n",
            "175/175 [==============================] - 1s 3ms/step - loss: 0.4024 - accuracy: 0.8413 - val_loss: 0.3997 - val_accuracy: 0.8333\n",
            "Epoch 6/50\n",
            "175/175 [==============================] - 1s 3ms/step - loss: 0.3937 - accuracy: 0.8377 - val_loss: 0.3928 - val_accuracy: 0.8367\n",
            "Epoch 7/50\n",
            "175/175 [==============================] - 1s 3ms/step - loss: 0.3916 - accuracy: 0.8357 - val_loss: 0.3804 - val_accuracy: 0.8400\n",
            "Epoch 8/50\n",
            "175/175 [==============================] - 1s 3ms/step - loss: 0.3852 - accuracy: 0.8421 - val_loss: 0.3799 - val_accuracy: 0.8404\n",
            "Epoch 9/50\n",
            "175/175 [==============================] - 1s 3ms/step - loss: 0.3805 - accuracy: 0.8421 - val_loss: 0.3711 - val_accuracy: 0.8379\n",
            "Epoch 10/50\n",
            "175/175 [==============================] - 1s 3ms/step - loss: 0.3736 - accuracy: 0.8407 - val_loss: 0.3698 - val_accuracy: 0.8438\n",
            "Epoch 11/50\n",
            "175/175 [==============================] - 1s 3ms/step - loss: 0.3731 - accuracy: 0.8455 - val_loss: 0.3723 - val_accuracy: 0.8467\n",
            "Epoch 12/50\n",
            "175/175 [==============================] - 1s 3ms/step - loss: 0.3726 - accuracy: 0.8448 - val_loss: 0.3713 - val_accuracy: 0.8504\n",
            "Epoch 13/50\n",
            "175/175 [==============================] - 1s 3ms/step - loss: 0.3746 - accuracy: 0.8464 - val_loss: 0.3697 - val_accuracy: 0.8446\n",
            "Epoch 14/50\n",
            "175/175 [==============================] - 1s 3ms/step - loss: 0.3669 - accuracy: 0.8507 - val_loss: 0.3700 - val_accuracy: 0.8454\n",
            "Epoch 15/50\n",
            "175/175 [==============================] - 1s 3ms/step - loss: 0.3726 - accuracy: 0.8402 - val_loss: 0.3683 - val_accuracy: 0.8438\n",
            "Epoch 16/50\n",
            "175/175 [==============================] - 1s 3ms/step - loss: 0.3698 - accuracy: 0.8468 - val_loss: 0.3636 - val_accuracy: 0.8479\n",
            "Epoch 17/50\n",
            "175/175 [==============================] - 1s 3ms/step - loss: 0.3686 - accuracy: 0.8464 - val_loss: 0.3624 - val_accuracy: 0.8496\n",
            "Epoch 18/50\n",
            "175/175 [==============================] - 1s 3ms/step - loss: 0.3727 - accuracy: 0.8418 - val_loss: 0.3654 - val_accuracy: 0.8504\n",
            "Epoch 19/50\n",
            "175/175 [==============================] - 1s 3ms/step - loss: 0.3643 - accuracy: 0.8504 - val_loss: 0.3614 - val_accuracy: 0.8521\n",
            "Epoch 20/50\n",
            "175/175 [==============================] - 1s 3ms/step - loss: 0.3654 - accuracy: 0.8473 - val_loss: 0.3616 - val_accuracy: 0.8479\n",
            "Epoch 21/50\n",
            "175/175 [==============================] - 1s 3ms/step - loss: 0.3699 - accuracy: 0.8441 - val_loss: 0.3603 - val_accuracy: 0.8537\n",
            "Epoch 22/50\n",
            "175/175 [==============================] - 1s 3ms/step - loss: 0.3660 - accuracy: 0.8498 - val_loss: 0.3640 - val_accuracy: 0.8487\n",
            "Epoch 23/50\n",
            "175/175 [==============================] - 1s 3ms/step - loss: 0.3677 - accuracy: 0.8482 - val_loss: 0.3695 - val_accuracy: 0.8425\n",
            "Epoch 24/50\n",
            "175/175 [==============================] - 1s 3ms/step - loss: 0.3629 - accuracy: 0.8482 - val_loss: 0.3581 - val_accuracy: 0.8500\n",
            "Epoch 25/50\n",
            "175/175 [==============================] - 1s 3ms/step - loss: 0.3628 - accuracy: 0.8480 - val_loss: 0.3606 - val_accuracy: 0.8483\n",
            "Epoch 26/50\n",
            "175/175 [==============================] - 1s 3ms/step - loss: 0.3702 - accuracy: 0.8446 - val_loss: 0.3628 - val_accuracy: 0.8479\n",
            "Epoch 27/50\n",
            "175/175 [==============================] - 1s 3ms/step - loss: 0.3723 - accuracy: 0.8470 - val_loss: 0.3586 - val_accuracy: 0.8492\n",
            "Epoch 28/50\n",
            "175/175 [==============================] - 1s 3ms/step - loss: 0.3632 - accuracy: 0.8491 - val_loss: 0.3590 - val_accuracy: 0.8500\n",
            "Epoch 29/50\n",
            "175/175 [==============================] - 1s 3ms/step - loss: 0.3662 - accuracy: 0.8464 - val_loss: 0.3590 - val_accuracy: 0.8496\n",
            "Epoch 30/50\n",
            "175/175 [==============================] - 1s 3ms/step - loss: 0.3672 - accuracy: 0.8466 - val_loss: 0.3593 - val_accuracy: 0.8504\n",
            "Epoch 31/50\n",
            "175/175 [==============================] - 1s 3ms/step - loss: 0.3677 - accuracy: 0.8468 - val_loss: 0.3560 - val_accuracy: 0.8512\n",
            "Epoch 32/50\n",
            "175/175 [==============================] - 1s 3ms/step - loss: 0.3675 - accuracy: 0.8480 - val_loss: 0.3590 - val_accuracy: 0.8512\n",
            "Epoch 33/50\n",
            "175/175 [==============================] - 1s 3ms/step - loss: 0.3623 - accuracy: 0.8507 - val_loss: 0.3605 - val_accuracy: 0.8525\n",
            "Epoch 34/50\n",
            "175/175 [==============================] - 1s 3ms/step - loss: 0.3702 - accuracy: 0.8438 - val_loss: 0.3582 - val_accuracy: 0.8504\n",
            "Epoch 35/50\n",
            "175/175 [==============================] - 1s 3ms/step - loss: 0.3665 - accuracy: 0.8455 - val_loss: 0.3601 - val_accuracy: 0.8500\n",
            "Epoch 36/50\n",
            "175/175 [==============================] - 1s 6ms/step - loss: 0.3687 - accuracy: 0.8493 - val_loss: 0.3565 - val_accuracy: 0.8533\n",
            "Epoch 37/50\n",
            "175/175 [==============================] - 1s 6ms/step - loss: 0.3621 - accuracy: 0.8482 - val_loss: 0.3569 - val_accuracy: 0.8512\n",
            "Epoch 38/50\n",
            "175/175 [==============================] - 1s 5ms/step - loss: 0.3625 - accuracy: 0.8536 - val_loss: 0.3575 - val_accuracy: 0.8496\n",
            "Epoch 39/50\n",
            "175/175 [==============================] - 1s 3ms/step - loss: 0.3638 - accuracy: 0.8495 - val_loss: 0.3584 - val_accuracy: 0.8479\n",
            "Epoch 40/50\n",
            "175/175 [==============================] - 1s 3ms/step - loss: 0.3700 - accuracy: 0.8429 - val_loss: 0.3558 - val_accuracy: 0.8525\n",
            "Epoch 41/50\n",
            "175/175 [==============================] - 1s 3ms/step - loss: 0.3671 - accuracy: 0.8448 - val_loss: 0.3578 - val_accuracy: 0.8487\n",
            "Epoch 42/50\n",
            "175/175 [==============================] - 1s 3ms/step - loss: 0.3632 - accuracy: 0.8530 - val_loss: 0.3574 - val_accuracy: 0.8517\n",
            "Epoch 43/50\n",
            "175/175 [==============================] - 1s 3ms/step - loss: 0.3687 - accuracy: 0.8480 - val_loss: 0.3590 - val_accuracy: 0.8496\n",
            "Epoch 44/50\n",
            "175/175 [==============================] - 1s 3ms/step - loss: 0.3679 - accuracy: 0.8520 - val_loss: 0.3591 - val_accuracy: 0.8475\n",
            "Epoch 45/50\n",
            "175/175 [==============================] - 0s 3ms/step - loss: 0.3616 - accuracy: 0.8534 - val_loss: 0.3575 - val_accuracy: 0.8525\n",
            "Epoch 46/50\n",
            "175/175 [==============================] - 1s 3ms/step - loss: 0.3597 - accuracy: 0.8520 - val_loss: 0.3599 - val_accuracy: 0.8442\n",
            "Epoch 47/50\n",
            "175/175 [==============================] - 1s 3ms/step - loss: 0.3677 - accuracy: 0.8496 - val_loss: 0.3580 - val_accuracy: 0.8529\n",
            "Epoch 48/50\n",
            "175/175 [==============================] - 1s 3ms/step - loss: 0.3634 - accuracy: 0.8516 - val_loss: 0.3565 - val_accuracy: 0.8521\n",
            "Epoch 49/50\n",
            "175/175 [==============================] - 1s 3ms/step - loss: 0.3651 - accuracy: 0.8491 - val_loss: 0.3559 - val_accuracy: 0.8529\n",
            "Epoch 50/50\n",
            "175/175 [==============================] - 1s 3ms/step - loss: 0.3675 - accuracy: 0.8518 - val_loss: 0.3556 - val_accuracy: 0.8517\n"
          ]
        }
      ]
    },
    {
      "cell_type": "code",
      "source": [
        "y_pred = ann.predict(x_test)"
      ],
      "metadata": {
        "id": "UMQuezCAkbkW"
      },
      "execution_count": null,
      "outputs": []
    },
    {
      "cell_type": "code",
      "source": [
        "# Predicting the Test set results\n",
        "y_pred = ann.predict(x_test)\n",
        "for i in range(0, y_pred.size):\n",
        "    if y_pred[i] > 0.5:\n",
        "        y_pred[i] = 1\n",
        "    else:\n",
        "        y_pred[i] = 0\n",
        "# Making the Confusion Matrix\n",
        "from sklearn.metrics import confusion_matrix\n",
        "cm = confusion_matrix(y_test, y_pred)\n",
        "print(cm)"
      ],
      "metadata": {
        "colab": {
          "base_uri": "https://localhost:8080/"
        },
        "id": "lOAX9W_5n-7g",
        "outputId": "dec81b0c-0354-43bf-b832-5e1e8f5848c0"
      },
      "execution_count": null,
      "outputs": [
        {
          "output_type": "stream",
          "name": "stdout",
          "text": [
            "63/63 [==============================] - 0s 1ms/step\n",
            "[[1542   53]\n",
            " [ 230  175]]\n"
          ]
        }
      ]
    },
    {
      "cell_type": "code",
      "source": [
        "from sklearn.metrics import accuracy_score, mean_squared_error, classification_report\n",
        "accuracy = round(accuracy_score(y_test, y_pred) * 100, 2)\n",
        "rmse = np.sqrt(mean_squared_error(y_test, y_pred))\n",
        "report = classification_report(y_test, y_pred)\n",
        "print(\"The Classification report is as follows::\\n\", report)"
      ],
      "metadata": {
        "colab": {
          "base_uri": "https://localhost:8080/"
        },
        "id": "9iIQd5LooEvD",
        "outputId": "dfc86cbf-da29-452b-9830-e1b828dfd13e"
      },
      "execution_count": null,
      "outputs": [
        {
          "output_type": "stream",
          "name": "stdout",
          "text": [
            "The Classification report is as follows::\n",
            "               precision    recall  f1-score   support\n",
            "\n",
            "           0       0.87      0.97      0.92      1595\n",
            "           1       0.77      0.43      0.55       405\n",
            "\n",
            "    accuracy                           0.86      2000\n",
            "   macro avg       0.82      0.70      0.73      2000\n",
            "weighted avg       0.85      0.86      0.84      2000\n",
            "\n"
          ]
        }
      ]
    },
    {
      "cell_type": "code",
      "source": [
        "import seaborn as sns\n",
        "import matplotlib.pyplot as plt\n",
        "plt.figure(figsize = (10, 8))\n",
        "sns.heatmap(cm, annot = True, fmt = '.0f', linewidths = .5, square = True)\n",
        "plt.xlabel('Predicted labels')\n",
        "plt.title('Accuracy: {0}'.format(round(accuracy, 2)))\n",
        "plt.ylabel('Actual labels')\n",
        "plt.show()"
      ],
      "metadata": {
        "colab": {
          "base_uri": "https://localhost:8080/",
          "height": 513
        },
        "id": "xZzf_gsjoKV5",
        "outputId": "afd15235-743a-421e-a378-bc1fdd6f0f6e"
      },
      "execution_count": null,
      "outputs": [
        {
          "output_type": "display_data",
          "data": {
            "text/plain": [
              "<Figure size 720x576 with 2 Axes>"
            ],
            "image/png": "[encoded data removed]"
          },
          "metadata": {
            "needs_background": "light"
          }
        }
      ]
    },
    {
      "cell_type": "code",
      "source": [
        "plt.figure(figsize = (12, 6))\n",
        "\n",
        "train_loss = ann_history.history['loss']\n",
        "val_loss = ann_history.history['val_loss'] \n",
        "epoch = range(1, 51)\n",
        "sns.lineplot(epoch, train_loss, label = 'Training Loss')\n",
        "sns.lineplot(epoch, val_loss, label = 'Validation Loss')\n",
        "plt.title('Training and Validation Loss\\n')\n",
        "plt.xlabel('Epochs')\n",
        "plt.ylabel('Loss')\n",
        "plt.legend()\n",
        "plt.show()"
      ],
      "metadata": {
        "id": "RiktDphYGeCO",
        "colab": {
          "base_uri": "https://localhost:8080/",
          "height": 492
        },
        "outputId": "7e40fb54-e966-4bac-b668-1e23c52ccfea"
      },
      "execution_count": null,
      "outputs": [
        {
          "output_type": "stream",
          "name": "stderr",
          "text": [
            "/usr/local/lib/python3.7/dist-packages/seaborn/_decorators.py:43: FutureWarning: Pass the following variables as keyword args: x, y. From version 0.12, the only valid positional argument will be `data`, and passing other arguments without an explicit keyword will result in an error or misinterpretation.\n",
            "  FutureWarning\n",
            "/usr/local/lib/python3.7/dist-packages/seaborn/_decorators.py:43: FutureWarning: Pass the following variables as keyword args: x, y. From version 0.12, the only valid positional argument will be `data`, and passing other arguments without an explicit keyword will result in an error or misinterpretation.\n",
            "  FutureWarning\n"
          ]
        },
        {
          "output_type": "display_data",
          "data": {
            "text/plain": [
              "<Figure size 864x432 with 1 Axes>"
            ],
            "image/png": "[encoded data removed]"
          },
          "metadata": {
            "needs_background": "light"
          }
        }
      ]
    },
    {
      "cell_type": "code",
      "source": [
        "plt.figure(figsize = (12, 6))\n",
        "\n",
        "train_loss = ann_history.history['accuracy']\n",
        "val_loss = ann_history.history['val_accuracy'] \n",
        "epoch = range(1, 51)\n",
        "sns.lineplot(epoch, train_loss, label = 'Training accuracy')\n",
        "sns.lineplot(epoch, val_loss, label = 'Validation accuracy')\n",
        "plt.title('Training and Validation Accuracy\\n')\n",
        "plt.xlabel('Epochs')\n",
        "plt.ylabel('Accuracy')\n",
        "plt.legend()\n",
        "plt.show()"
      ],
      "metadata": {
        "id": "dQWnGsfVHXK0",
        "colab": {
          "base_uri": "https://localhost:8080/",
          "height": 492
        },
        "outputId": "97368dfe-fd06-441e-8472-ceb6ce1631dd"
      },
      "execution_count": null,
      "outputs": [
        {
          "output_type": "stream",
          "name": "stderr",
          "text": [
            "/usr/local/lib/python3.7/dist-packages/seaborn/_decorators.py:43: FutureWarning: Pass the following variables as keyword args: x, y. From version 0.12, the only valid positional argument will be `data`, and passing other arguments without an explicit keyword will result in an error or misinterpretation.\n",
            "  FutureWarning\n",
            "/usr/local/lib/python3.7/dist-packages/seaborn/_decorators.py:43: FutureWarning: Pass the following variables as keyword args: x, y. From version 0.12, the only valid positional argument will be `data`, and passing other arguments without an explicit keyword will result in an error or misinterpretation.\n",
            "  FutureWarning\n"
          ]
        },
        {
          "output_type": "display_data",
          "data": {
            "text/plain": [
              "<Figure size 864x432 with 1 Axes>"
            ],
            "image/png": "[encoded data removed]"
          },
          "metadata": {
            "needs_background": "light"
          }
        }
      ]
    },
    {
      "cell_type": "code",
      "source": [
        "acc = ann.evaluate(x_test, y_test)[1]\n",
        "\n",
        "print(f'Accuracy of model is {acc}')"
      ],
      "metadata": {
        "id": "IPKN_EifHen1",
        "colab": {
          "base_uri": "https://localhost:8080/"
        },
        "outputId": "f1f190d9-a278-4870-8444-8e7991191a88"
      },
      "execution_count": null,
      "outputs": [
        {
          "output_type": "stream",
          "name": "stdout",
          "text": [
            "63/63 [==============================] - 0s 2ms/step - loss: 0.3500 - accuracy: 0.8580\n",
            "Accuracy of model is 0.8579999804496765\n"
          ]
        }
      ]
    },
    {
      "cell_type": "code",
      "source": [
        "from keras.wrappers.scikit_learn import KerasClassifier\n",
        "from sklearn.model_selection import cross_val_score"
      ],
      "metadata": {
        "id": "rDgpyLHMJQaE"
      },
      "execution_count": null,
      "outputs": []
    },
    {
      "cell_type": "code",
      "source": [
        "# Builing the function\n",
        "def ann_classifier():\n",
        "    ann = tf.keras.models.Sequential()\n",
        "    ann.add(tf.keras.layers.Dense(10, input_shape = (10, )))\n",
        "    ann.add(Dense(10, kernel_initializer = 'normal', activation = 'relu',))\n",
        "    ann.add(Dense(8, kernel_initializer = 'normal', activation = 'relu',))\n",
        "    ann.add(Dense(6, kernel_initializer = 'he_uniform',activation='relu'))\n",
        "    ann.add(Dropout(rate = 0.1))\n",
        "    ann.add(BatchNormalization())\n",
        "    ann.add(Dense(4, kernel_initializer = 'he_uniform',activation='relu'))\n",
        "    ann.add(Dense(2, kernel_initializer = 'he_uniform',activation='relu')) \n",
        "    ann.add(Dense(2, kernel_initializer = 'normal', activation = 'sigmoid'))\n",
        "    ann.compile(optimizer= 'adam', loss= 'binary_crossentropy', metrics= ['accuracy'])\n",
        "    return ann"
      ],
      "metadata": {
        "id": "cTD8UyfhJSYF"
      },
      "execution_count": null,
      "outputs": []
    },
    {
      "cell_type": "code",
      "source": [
        "from keras.wrappers.scikit_learn import KerasClassifier\n",
        "from sklearn.model_selection import cross_val_score\n",
        "# Passing values to KerasClassifier \n",
        "model = KerasClassifier(build_fn = ann_classifier, batch_size = 32, epochs = 50)\n",
        "# We are using 5 fold cross validation here\n",
        "accuracies = cross_val_score(estimator = model, X = x_train, y = y_train, cv = 5)"
      ],
      "metadata": {
        "colab": {
          "base_uri": "https://localhost:8080/"
        },
        "id": "cHXJKpSEJVGG",
        "outputId": "5c383d8a-d440-4bed-8556-b7e00846620d"
      },
      "execution_count": null,
      "outputs": [
        {
          "output_type": "stream",
          "name": "stdout",
          "text": [
            "Epoch 1/50\n"
          ]
        },
        {
          "output_type": "stream",
          "name": "stderr",
          "text": [
            "/usr/local/lib/python3.7/dist-packages/ipykernel_launcher.py:4: DeprecationWarning: KerasClassifier is deprecated, use Sci-Keras (https://github.com/adriangb/scikeras) instead. See https://www.adriangb.com/scikeras/stable/migration.html for help migrating.\n",
            "  after removing the cwd from sys.path.\n"
          ]
        },
        {
          "output_type": "stream",
          "name": "stdout",
          "text": [
            "200/200 [==============================] - 1s 3ms/step - loss: 0.5573 - accuracy: 0.7841\n",
            "Epoch 2/50\n",
            "200/200 [==============================] - 1s 3ms/step - loss: 0.4461 - accuracy: 0.7983\n",
            "Epoch 3/50\n",
            "200/200 [==============================] - 1s 3ms/step - loss: 0.4125 - accuracy: 0.8094\n",
            "Epoch 4/50\n",
            "200/200 [==============================] - 1s 3ms/step - loss: 0.3859 - accuracy: 0.8316\n",
            "Epoch 5/50\n",
            "200/200 [==============================] - 1s 3ms/step - loss: 0.3748 - accuracy: 0.8402\n",
            "Epoch 6/50\n",
            "200/200 [==============================] - 0s 2ms/step - loss: 0.3690 - accuracy: 0.8447\n",
            "Epoch 7/50\n",
            "200/200 [==============================] - 1s 2ms/step - loss: 0.3648 - accuracy: 0.8481\n",
            "Epoch 8/50\n",
            "200/200 [==============================] - 1s 3ms/step - loss: 0.3656 - accuracy: 0.8483\n",
            "Epoch 9/50\n",
            "200/200 [==============================] - 0s 2ms/step - loss: 0.3607 - accuracy: 0.8487\n",
            "Epoch 10/50\n",
            "200/200 [==============================] - 1s 2ms/step - loss: 0.3597 - accuracy: 0.8520\n",
            "Epoch 11/50\n",
            "200/200 [==============================] - 1s 2ms/step - loss: 0.3575 - accuracy: 0.8519\n",
            "Epoch 12/50\n",
            "200/200 [==============================] - 0s 2ms/step - loss: 0.3574 - accuracy: 0.8530\n",
            "Epoch 13/50\n",
            "200/200 [==============================] - 1s 3ms/step - loss: 0.3550 - accuracy: 0.8569\n",
            "Epoch 14/50\n",
            "200/200 [==============================] - 0s 2ms/step - loss: 0.3514 - accuracy: 0.8566\n",
            "Epoch 15/50\n",
            "200/200 [==============================] - 1s 3ms/step - loss: 0.3539 - accuracy: 0.8548\n",
            "Epoch 16/50\n",
            "200/200 [==============================] - 0s 2ms/step - loss: 0.3518 - accuracy: 0.8545\n",
            "Epoch 17/50\n",
            "200/200 [==============================] - 1s 3ms/step - loss: 0.3510 - accuracy: 0.8586\n",
            "Epoch 18/50\n",
            "200/200 [==============================] - 0s 2ms/step - loss: 0.3500 - accuracy: 0.8583\n",
            "Epoch 19/50\n",
            "200/200 [==============================] - 0s 2ms/step - loss: 0.3475 - accuracy: 0.8609\n",
            "Epoch 20/50\n",
            "200/200 [==============================] - 0s 2ms/step - loss: 0.3462 - accuracy: 0.8612\n",
            "Epoch 21/50\n",
            "200/200 [==============================] - 1s 3ms/step - loss: 0.3510 - accuracy: 0.8592\n",
            "Epoch 22/50\n",
            "200/200 [==============================] - 1s 2ms/step - loss: 0.3478 - accuracy: 0.8603\n",
            "Epoch 23/50\n",
            "200/200 [==============================] - 1s 3ms/step - loss: 0.3446 - accuracy: 0.8637\n",
            "Epoch 24/50\n",
            "200/200 [==============================] - 1s 3ms/step - loss: 0.3502 - accuracy: 0.8595\n",
            "Epoch 25/50\n",
            "200/200 [==============================] - 1s 3ms/step - loss: 0.3488 - accuracy: 0.8606\n",
            "Epoch 26/50\n",
            "200/200 [==============================] - 1s 2ms/step - loss: 0.3440 - accuracy: 0.8619\n",
            "Epoch 27/50\n",
            "200/200 [==============================] - 1s 2ms/step - loss: 0.3464 - accuracy: 0.8619\n",
            "Epoch 28/50\n",
            "200/200 [==============================] - 0s 2ms/step - loss: 0.3432 - accuracy: 0.8625\n",
            "Epoch 29/50\n",
            "200/200 [==============================] - 1s 2ms/step - loss: 0.3442 - accuracy: 0.8619\n",
            "Epoch 30/50\n",
            "200/200 [==============================] - 1s 3ms/step - loss: 0.3426 - accuracy: 0.8630\n",
            "Epoch 31/50\n",
            "200/200 [==============================] - 1s 3ms/step - loss: 0.3445 - accuracy: 0.8616\n",
            "Epoch 32/50\n",
            "200/200 [==============================] - 1s 2ms/step - loss: 0.3473 - accuracy: 0.8627\n",
            "Epoch 33/50\n",
            "200/200 [==============================] - 1s 2ms/step - loss: 0.3450 - accuracy: 0.8630\n",
            "Epoch 34/50\n",
            "200/200 [==============================] - 0s 2ms/step - loss: 0.3434 - accuracy: 0.8608\n",
            "Epoch 35/50\n",
            "200/200 [==============================] - 1s 3ms/step - loss: 0.3465 - accuracy: 0.8598\n",
            "Epoch 36/50\n",
            "200/200 [==============================] - 0s 2ms/step - loss: 0.3440 - accuracy: 0.8602\n",
            "Epoch 37/50\n",
            "200/200 [==============================] - 0s 2ms/step - loss: 0.3462 - accuracy: 0.8608\n",
            "Epoch 38/50\n",
            "200/200 [==============================] - 0s 2ms/step - loss: 0.3474 - accuracy: 0.8595\n",
            "Epoch 39/50\n",
            "200/200 [==============================] - 0s 2ms/step - loss: 0.3428 - accuracy: 0.8594\n",
            "Epoch 40/50\n",
            "200/200 [==============================] - 0s 2ms/step - loss: 0.3431 - accuracy: 0.8602\n",
            "Epoch 41/50\n",
            "200/200 [==============================] - 0s 2ms/step - loss: 0.3442 - accuracy: 0.8620\n",
            "Epoch 42/50\n",
            "200/200 [==============================] - 0s 2ms/step - loss: 0.3424 - accuracy: 0.8619\n",
            "Epoch 43/50\n",
            "200/200 [==============================] - 0s 2ms/step - loss: 0.3381 - accuracy: 0.8669\n",
            "Epoch 44/50\n",
            "200/200 [==============================] - 1s 3ms/step - loss: 0.3421 - accuracy: 0.8592\n",
            "Epoch 45/50\n",
            "200/200 [==============================] - 0s 2ms/step - loss: 0.3383 - accuracy: 0.8641\n",
            "Epoch 46/50\n",
            "200/200 [==============================] - 0s 2ms/step - loss: 0.3396 - accuracy: 0.8620\n",
            "Epoch 47/50\n",
            "200/200 [==============================] - 1s 3ms/step - loss: 0.3366 - accuracy: 0.8639\n",
            "Epoch 48/50\n",
            "200/200 [==============================] - 1s 3ms/step - loss: 0.3392 - accuracy: 0.8633\n",
            "Epoch 49/50\n",
            "200/200 [==============================] - 0s 2ms/step - loss: 0.3405 - accuracy: 0.8614\n",
            "Epoch 50/50\n",
            "200/200 [==============================] - 0s 2ms/step - loss: 0.3386 - accuracy: 0.8641\n",
            "50/50 [==============================] - 0s 2ms/step - loss: 0.3501 - accuracy: 0.8581\n",
            "Epoch 1/50\n",
            "200/200 [==============================] - 1s 3ms/step - loss: 0.5368 - accuracy: 0.7869\n",
            "Epoch 2/50\n",
            "200/200 [==============================] - 0s 2ms/step - loss: 0.4452 - accuracy: 0.7972\n",
            "Epoch 3/50\n",
            "200/200 [==============================] - 0s 2ms/step - loss: 0.4229 - accuracy: 0.8055\n",
            "Epoch 4/50\n",
            "200/200 [==============================] - 0s 2ms/step - loss: 0.4079 - accuracy: 0.8164\n",
            "Epoch 5/50\n",
            "200/200 [==============================] - 0s 2ms/step - loss: 0.3978 - accuracy: 0.8147\n",
            "Epoch 6/50\n",
            "200/200 [==============================] - 0s 2ms/step - loss: 0.3925 - accuracy: 0.8220\n",
            "Epoch 7/50\n",
            "200/200 [==============================] - 0s 2ms/step - loss: 0.3876 - accuracy: 0.8280\n",
            "Epoch 8/50\n",
            "200/200 [==============================] - 1s 2ms/step - loss: 0.3887 - accuracy: 0.8267\n",
            "Epoch 9/50\n",
            "200/200 [==============================] - 1s 2ms/step - loss: 0.3840 - accuracy: 0.8280\n",
            "Epoch 10/50\n",
            "200/200 [==============================] - 0s 2ms/step - loss: 0.3838 - accuracy: 0.8313\n",
            "Epoch 11/50\n",
            "200/200 [==============================] - 1s 2ms/step - loss: 0.3786 - accuracy: 0.8348\n",
            "Epoch 12/50\n",
            "200/200 [==============================] - 1s 3ms/step - loss: 0.3765 - accuracy: 0.8409\n",
            "Epoch 13/50\n",
            "200/200 [==============================] - 0s 2ms/step - loss: 0.3708 - accuracy: 0.8433\n",
            "Epoch 14/50\n",
            "200/200 [==============================] - 1s 3ms/step - loss: 0.3659 - accuracy: 0.8483\n",
            "Epoch 15/50\n",
            "200/200 [==============================] - 0s 2ms/step - loss: 0.3636 - accuracy: 0.8495\n",
            "Epoch 16/50\n",
            "200/200 [==============================] - 1s 3ms/step - loss: 0.3652 - accuracy: 0.8486\n",
            "Epoch 17/50\n",
            "200/200 [==============================] - 0s 2ms/step - loss: 0.3612 - accuracy: 0.8525\n",
            "Epoch 18/50\n",
            "200/200 [==============================] - 1s 3ms/step - loss: 0.3589 - accuracy: 0.8542\n",
            "Epoch 19/50\n",
            "200/200 [==============================] - 1s 3ms/step - loss: 0.3588 - accuracy: 0.8495\n",
            "Epoch 20/50\n",
            "200/200 [==============================] - 1s 3ms/step - loss: 0.3593 - accuracy: 0.8511\n",
            "Epoch 21/50\n",
            "200/200 [==============================] - 1s 3ms/step - loss: 0.3585 - accuracy: 0.8522\n",
            "Epoch 22/50\n",
            "200/200 [==============================] - 1s 3ms/step - loss: 0.3549 - accuracy: 0.8531\n",
            "Epoch 23/50\n",
            "200/200 [==============================] - 1s 3ms/step - loss: 0.3545 - accuracy: 0.8552\n",
            "Epoch 24/50\n",
            "200/200 [==============================] - 1s 3ms/step - loss: 0.3505 - accuracy: 0.8561\n",
            "Epoch 25/50\n",
            "200/200 [==============================] - 0s 2ms/step - loss: 0.3544 - accuracy: 0.8561\n",
            "Epoch 26/50\n",
            "200/200 [==============================] - 1s 2ms/step - loss: 0.3518 - accuracy: 0.8591\n",
            "Epoch 27/50\n",
            "200/200 [==============================] - 1s 3ms/step - loss: 0.3532 - accuracy: 0.8544\n",
            "Epoch 28/50\n",
            "200/200 [==============================] - 1s 3ms/step - loss: 0.3464 - accuracy: 0.8598\n",
            "Epoch 29/50\n",
            "200/200 [==============================] - 0s 2ms/step - loss: 0.3498 - accuracy: 0.8589\n",
            "Epoch 30/50\n",
            "200/200 [==============================] - 1s 3ms/step - loss: 0.3515 - accuracy: 0.8583\n",
            "Epoch 31/50\n",
            "200/200 [==============================] - 1s 3ms/step - loss: 0.3472 - accuracy: 0.8592\n",
            "Epoch 32/50\n",
            "200/200 [==============================] - 1s 2ms/step - loss: 0.3455 - accuracy: 0.8594\n",
            "Epoch 33/50\n",
            "200/200 [==============================] - 1s 3ms/step - loss: 0.3507 - accuracy: 0.8587\n",
            "Epoch 34/50\n",
            "200/200 [==============================] - 1s 3ms/step - loss: 0.3470 - accuracy: 0.8570\n",
            "Epoch 35/50\n",
            "200/200 [==============================] - 1s 3ms/step - loss: 0.3476 - accuracy: 0.8591\n",
            "Epoch 36/50\n",
            "200/200 [==============================] - 1s 3ms/step - loss: 0.3444 - accuracy: 0.8581\n",
            "Epoch 37/50\n",
            "200/200 [==============================] - 1s 3ms/step - loss: 0.3459 - accuracy: 0.8573\n",
            "Epoch 38/50\n",
            "200/200 [==============================] - 1s 3ms/step - loss: 0.3475 - accuracy: 0.8561\n",
            "Epoch 39/50\n",
            "200/200 [==============================] - 1s 3ms/step - loss: 0.3410 - accuracy: 0.8619\n",
            "Epoch 40/50\n",
            "200/200 [==============================] - 0s 2ms/step - loss: 0.3481 - accuracy: 0.8587\n",
            "Epoch 41/50\n",
            "200/200 [==============================] - 1s 3ms/step - loss: 0.3476 - accuracy: 0.8591\n",
            "Epoch 42/50\n",
            "200/200 [==============================] - 1s 3ms/step - loss: 0.3443 - accuracy: 0.8623\n",
            "Epoch 43/50\n",
            "200/200 [==============================] - 1s 3ms/step - loss: 0.3382 - accuracy: 0.8605\n",
            "Epoch 44/50\n",
            "200/200 [==============================] - 0s 2ms/step - loss: 0.3422 - accuracy: 0.8612\n",
            "Epoch 45/50\n",
            "200/200 [==============================] - 1s 3ms/step - loss: 0.3421 - accuracy: 0.8633\n",
            "Epoch 46/50\n",
            "200/200 [==============================] - 1s 3ms/step - loss: 0.3408 - accuracy: 0.8634\n",
            "Epoch 47/50\n",
            "200/200 [==============================] - 1s 6ms/step - loss: 0.3414 - accuracy: 0.8627\n",
            "Epoch 48/50\n",
            "200/200 [==============================] - 1s 4ms/step - loss: 0.3414 - accuracy: 0.8600\n",
            "Epoch 49/50\n",
            "200/200 [==============================] - 1s 6ms/step - loss: 0.3387 - accuracy: 0.8637\n",
            "Epoch 50/50\n",
            "200/200 [==============================] - 1s 6ms/step - loss: 0.3411 - accuracy: 0.8611\n",
            "50/50 [==============================] - 0s 2ms/step - loss: 0.3556 - accuracy: 0.8562\n",
            "Epoch 1/50\n",
            "200/200 [==============================] - 1s 2ms/step - loss: 0.5291 - accuracy: 0.7873\n",
            "Epoch 2/50\n",
            "200/200 [==============================] - 0s 2ms/step - loss: 0.4306 - accuracy: 0.7917\n",
            "Epoch 3/50\n",
            "200/200 [==============================] - 0s 2ms/step - loss: 0.4108 - accuracy: 0.8014\n",
            "Epoch 4/50\n",
            "200/200 [==============================] - 0s 2ms/step - loss: 0.4054 - accuracy: 0.8120\n",
            "Epoch 5/50\n",
            "200/200 [==============================] - 0s 2ms/step - loss: 0.4012 - accuracy: 0.8158\n",
            "Epoch 6/50\n",
            "200/200 [==============================] - 0s 2ms/step - loss: 0.3950 - accuracy: 0.8230\n",
            "Epoch 7/50\n",
            "200/200 [==============================] - 1s 3ms/step - loss: 0.3935 - accuracy: 0.8245\n",
            "Epoch 8/50\n",
            "200/200 [==============================] - 1s 3ms/step - loss: 0.3866 - accuracy: 0.8306\n",
            "Epoch 9/50\n",
            "200/200 [==============================] - 1s 3ms/step - loss: 0.3791 - accuracy: 0.8372\n",
            "Epoch 10/50\n",
            "200/200 [==============================] - 0s 2ms/step - loss: 0.3768 - accuracy: 0.8405\n",
            "Epoch 11/50\n",
            "200/200 [==============================] - 0s 2ms/step - loss: 0.3711 - accuracy: 0.8464\n",
            "Epoch 12/50\n",
            "200/200 [==============================] - 0s 2ms/step - loss: 0.3767 - accuracy: 0.8456\n",
            "Epoch 13/50\n",
            "200/200 [==============================] - 0s 2ms/step - loss: 0.3689 - accuracy: 0.8461\n",
            "Epoch 14/50\n",
            "200/200 [==============================] - 1s 3ms/step - loss: 0.3704 - accuracy: 0.8447\n",
            "Epoch 15/50\n",
            "200/200 [==============================] - 1s 3ms/step - loss: 0.3670 - accuracy: 0.8461\n",
            "Epoch 16/50\n",
            "200/200 [==============================] - 1s 3ms/step - loss: 0.3695 - accuracy: 0.8441\n",
            "Epoch 17/50\n",
            "200/200 [==============================] - 1s 4ms/step - loss: 0.3665 - accuracy: 0.8483\n",
            "Epoch 18/50\n",
            "200/200 [==============================] - 1s 4ms/step - loss: 0.3657 - accuracy: 0.8500\n",
            "Epoch 19/50\n",
            "200/200 [==============================] - 1s 4ms/step - loss: 0.3650 - accuracy: 0.8450\n",
            "Epoch 20/50\n",
            "200/200 [==============================] - 1s 3ms/step - loss: 0.3631 - accuracy: 0.8461\n",
            "Epoch 21/50\n",
            "200/200 [==============================] - 1s 3ms/step - loss: 0.3651 - accuracy: 0.8453\n",
            "Epoch 22/50\n",
            "200/200 [==============================] - 0s 2ms/step - loss: 0.3630 - accuracy: 0.8495\n",
            "Epoch 23/50\n",
            "200/200 [==============================] - 1s 3ms/step - loss: 0.3629 - accuracy: 0.8492\n",
            "Epoch 24/50\n",
            "200/200 [==============================] - 1s 2ms/step - loss: 0.3625 - accuracy: 0.8480\n",
            "Epoch 25/50\n",
            "200/200 [==============================] - 1s 3ms/step - loss: 0.3618 - accuracy: 0.8458\n",
            "Epoch 26/50\n",
            "200/200 [==============================] - 1s 2ms/step - loss: 0.3581 - accuracy: 0.8550\n",
            "Epoch 27/50\n",
            "200/200 [==============================] - 1s 3ms/step - loss: 0.3601 - accuracy: 0.8509\n",
            "Epoch 28/50\n",
            "200/200 [==============================] - 1s 3ms/step - loss: 0.3597 - accuracy: 0.8544\n",
            "Epoch 29/50\n",
            "200/200 [==============================] - 1s 2ms/step - loss: 0.3550 - accuracy: 0.8533\n",
            "Epoch 30/50\n",
            "200/200 [==============================] - 0s 2ms/step - loss: 0.3561 - accuracy: 0.8552\n",
            "Epoch 31/50\n",
            "200/200 [==============================] - 1s 3ms/step - loss: 0.3545 - accuracy: 0.8548\n",
            "Epoch 32/50\n",
            "200/200 [==============================] - 0s 2ms/step - loss: 0.3556 - accuracy: 0.8558\n",
            "Epoch 33/50\n",
            "200/200 [==============================] - 0s 2ms/step - loss: 0.3505 - accuracy: 0.8592\n",
            "Epoch 34/50\n",
            "200/200 [==============================] - 1s 2ms/step - loss: 0.3523 - accuracy: 0.8569\n",
            "Epoch 35/50\n",
            "200/200 [==============================] - 0s 2ms/step - loss: 0.3512 - accuracy: 0.8586\n",
            "Epoch 36/50\n",
            "200/200 [==============================] - 0s 2ms/step - loss: 0.3512 - accuracy: 0.8566\n",
            "Epoch 37/50\n",
            "200/200 [==============================] - 1s 3ms/step - loss: 0.3498 - accuracy: 0.8573\n",
            "Epoch 38/50\n",
            "200/200 [==============================] - 0s 2ms/step - loss: 0.3437 - accuracy: 0.8617\n",
            "Epoch 39/50\n",
            "200/200 [==============================] - 1s 3ms/step - loss: 0.3491 - accuracy: 0.8589\n",
            "Epoch 40/50\n",
            "200/200 [==============================] - 0s 2ms/step - loss: 0.3501 - accuracy: 0.8572\n",
            "Epoch 41/50\n",
            "200/200 [==============================] - 1s 3ms/step - loss: 0.3486 - accuracy: 0.8598\n",
            "Epoch 42/50\n",
            "200/200 [==============================] - 1s 3ms/step - loss: 0.3444 - accuracy: 0.8602\n",
            "Epoch 43/50\n",
            "200/200 [==============================] - 1s 3ms/step - loss: 0.3447 - accuracy: 0.8609\n",
            "Epoch 44/50\n",
            "200/200 [==============================] - 0s 2ms/step - loss: 0.3440 - accuracy: 0.8639\n",
            "Epoch 45/50\n",
            "200/200 [==============================] - 0s 2ms/step - loss: 0.3425 - accuracy: 0.8606\n",
            "Epoch 46/50\n",
            "200/200 [==============================] - 1s 3ms/step - loss: 0.3436 - accuracy: 0.8639\n",
            "Epoch 47/50\n",
            "200/200 [==============================] - 1s 3ms/step - loss: 0.3474 - accuracy: 0.8595\n",
            "Epoch 48/50\n",
            "200/200 [==============================] - 0s 2ms/step - loss: 0.3451 - accuracy: 0.8594\n",
            "Epoch 49/50\n",
            "200/200 [==============================] - 1s 2ms/step - loss: 0.3445 - accuracy: 0.8619\n",
            "Epoch 50/50\n",
            "200/200 [==============================] - 0s 2ms/step - loss: 0.3437 - accuracy: 0.8616\n",
            "50/50 [==============================] - 0s 2ms/step - loss: 0.3581 - accuracy: 0.8519\n",
            "Epoch 1/50\n",
            "200/200 [==============================] - 1s 2ms/step - loss: 0.5553 - accuracy: 0.7856\n",
            "Epoch 2/50\n",
            "200/200 [==============================] - 1s 3ms/step - loss: 0.4565 - accuracy: 0.7973\n",
            "Epoch 3/50\n",
            "200/200 [==============================] - 0s 2ms/step - loss: 0.4377 - accuracy: 0.7973\n",
            "Epoch 4/50\n",
            "200/200 [==============================] - 0s 2ms/step - loss: 0.4200 - accuracy: 0.7973\n",
            "Epoch 5/50\n",
            "200/200 [==============================] - 0s 2ms/step - loss: 0.4013 - accuracy: 0.7973\n",
            "Epoch 6/50\n",
            "200/200 [==============================] - 1s 3ms/step - loss: 0.3907 - accuracy: 0.8163\n",
            "Epoch 7/50\n",
            "200/200 [==============================] - 0s 2ms/step - loss: 0.3842 - accuracy: 0.8469\n",
            "Epoch 8/50\n",
            "200/200 [==============================] - 1s 3ms/step - loss: 0.3794 - accuracy: 0.8491\n",
            "Epoch 9/50\n",
            "200/200 [==============================] - 0s 2ms/step - loss: 0.3766 - accuracy: 0.8503\n",
            "Epoch 10/50\n",
            "200/200 [==============================] - 1s 3ms/step - loss: 0.3755 - accuracy: 0.8528\n",
            "Epoch 11/50\n",
            "200/200 [==============================] - 0s 2ms/step - loss: 0.3749 - accuracy: 0.8523\n",
            "Epoch 12/50\n",
            "200/200 [==============================] - 0s 2ms/step - loss: 0.3705 - accuracy: 0.8548\n",
            "Epoch 13/50\n",
            "200/200 [==============================] - 0s 2ms/step - loss: 0.3678 - accuracy: 0.8508\n",
            "Epoch 14/50\n",
            "200/200 [==============================] - 1s 3ms/step - loss: 0.3656 - accuracy: 0.8553\n",
            "Epoch 15/50\n",
            "200/200 [==============================] - 0s 2ms/step - loss: 0.3638 - accuracy: 0.8566\n",
            "Epoch 16/50\n",
            "200/200 [==============================] - 0s 2ms/step - loss: 0.3621 - accuracy: 0.8539\n",
            "Epoch 17/50\n",
            "200/200 [==============================] - 1s 2ms/step - loss: 0.3612 - accuracy: 0.8577\n",
            "Epoch 18/50\n",
            "200/200 [==============================] - 0s 2ms/step - loss: 0.3603 - accuracy: 0.8586\n",
            "Epoch 19/50\n",
            "200/200 [==============================] - 0s 2ms/step - loss: 0.3586 - accuracy: 0.8602\n",
            "Epoch 20/50\n",
            "200/200 [==============================] - 0s 2ms/step - loss: 0.3601 - accuracy: 0.8569\n",
            "Epoch 21/50\n",
            "200/200 [==============================] - 1s 3ms/step - loss: 0.3578 - accuracy: 0.8587\n",
            "Epoch 22/50\n",
            "200/200 [==============================] - 1s 3ms/step - loss: 0.3565 - accuracy: 0.8556\n",
            "Epoch 23/50\n",
            "200/200 [==============================] - 0s 2ms/step - loss: 0.3588 - accuracy: 0.8547\n",
            "Epoch 24/50\n",
            "200/200 [==============================] - 0s 2ms/step - loss: 0.3553 - accuracy: 0.8569\n",
            "Epoch 25/50\n",
            "200/200 [==============================] - 1s 3ms/step - loss: 0.3528 - accuracy: 0.8583\n",
            "Epoch 26/50\n",
            "200/200 [==============================] - 1s 3ms/step - loss: 0.3528 - accuracy: 0.8587\n",
            "Epoch 27/50\n",
            "200/200 [==============================] - 0s 2ms/step - loss: 0.3562 - accuracy: 0.8570\n",
            "Epoch 28/50\n",
            "200/200 [==============================] - 0s 2ms/step - loss: 0.3505 - accuracy: 0.8620\n",
            "Epoch 29/50\n",
            "200/200 [==============================] - 1s 3ms/step - loss: 0.3515 - accuracy: 0.8611\n",
            "Epoch 30/50\n",
            "200/200 [==============================] - 0s 2ms/step - loss: 0.3507 - accuracy: 0.8597\n",
            "Epoch 31/50\n",
            "200/200 [==============================] - 1s 2ms/step - loss: 0.3485 - accuracy: 0.8628\n",
            "Epoch 32/50\n",
            "200/200 [==============================] - 0s 2ms/step - loss: 0.3444 - accuracy: 0.8617\n",
            "Epoch 33/50\n",
            "200/200 [==============================] - 0s 2ms/step - loss: 0.3486 - accuracy: 0.8603\n",
            "Epoch 34/50\n",
            "200/200 [==============================] - 1s 3ms/step - loss: 0.3484 - accuracy: 0.8609\n",
            "Epoch 35/50\n",
            "200/200 [==============================] - 1s 3ms/step - loss: 0.3460 - accuracy: 0.8611\n",
            "Epoch 36/50\n",
            "200/200 [==============================] - 1s 2ms/step - loss: 0.3474 - accuracy: 0.8631\n",
            "Epoch 37/50\n",
            "200/200 [==============================] - 1s 2ms/step - loss: 0.3451 - accuracy: 0.8625\n",
            "Epoch 38/50\n",
            "200/200 [==============================] - 1s 3ms/step - loss: 0.3464 - accuracy: 0.8627\n",
            "Epoch 39/50\n",
            "200/200 [==============================] - 0s 2ms/step - loss: 0.3443 - accuracy: 0.8617\n",
            "Epoch 40/50\n",
            "200/200 [==============================] - 0s 2ms/step - loss: 0.3432 - accuracy: 0.8633\n",
            "Epoch 41/50\n",
            "200/200 [==============================] - 1s 3ms/step - loss: 0.3420 - accuracy: 0.8645\n",
            "Epoch 42/50\n",
            "200/200 [==============================] - 0s 2ms/step - loss: 0.3460 - accuracy: 0.8636\n",
            "Epoch 43/50\n",
            "200/200 [==============================] - 1s 3ms/step - loss: 0.3451 - accuracy: 0.8647\n",
            "Epoch 44/50\n",
            "200/200 [==============================] - 0s 2ms/step - loss: 0.3438 - accuracy: 0.8641\n",
            "Epoch 45/50\n",
            "200/200 [==============================] - 1s 3ms/step - loss: 0.3426 - accuracy: 0.8591\n",
            "Epoch 46/50\n",
            "200/200 [==============================] - 0s 2ms/step - loss: 0.3408 - accuracy: 0.8642\n",
            "Epoch 47/50\n",
            "200/200 [==============================] - 1s 3ms/step - loss: 0.3413 - accuracy: 0.8644\n",
            "Epoch 48/50\n",
            "200/200 [==============================] - 1s 2ms/step - loss: 0.3386 - accuracy: 0.8655\n",
            "Epoch 49/50\n",
            "200/200 [==============================] - 1s 3ms/step - loss: 0.3404 - accuracy: 0.8628\n",
            "Epoch 50/50\n",
            "200/200 [==============================] - 1s 3ms/step - loss: 0.3401 - accuracy: 0.8647\n",
            "50/50 [==============================] - 0s 2ms/step - loss: 0.3624 - accuracy: 0.8494\n",
            "Epoch 1/50\n",
            "200/200 [==============================] - 1s 3ms/step - loss: 0.5289 - accuracy: 0.7955\n",
            "Epoch 2/50\n",
            "200/200 [==============================] - 1s 2ms/step - loss: 0.4242 - accuracy: 0.7958\n",
            "Epoch 3/50\n",
            "200/200 [==============================] - 1s 3ms/step - loss: 0.4090 - accuracy: 0.7958\n",
            "Epoch 4/50\n",
            "200/200 [==============================] - 1s 3ms/step - loss: 0.4033 - accuracy: 0.7958\n",
            "Epoch 5/50\n",
            "200/200 [==============================] - 1s 3ms/step - loss: 0.3976 - accuracy: 0.8006\n",
            "Epoch 6/50\n",
            "200/200 [==============================] - 0s 2ms/step - loss: 0.3916 - accuracy: 0.8217\n",
            "Epoch 7/50\n",
            "200/200 [==============================] - 1s 3ms/step - loss: 0.3896 - accuracy: 0.8305\n",
            "Epoch 8/50\n",
            "200/200 [==============================] - 1s 3ms/step - loss: 0.3880 - accuracy: 0.8338\n",
            "Epoch 9/50\n",
            "200/200 [==============================] - 1s 3ms/step - loss: 0.3852 - accuracy: 0.8397\n",
            "Epoch 10/50\n",
            "200/200 [==============================] - 0s 2ms/step - loss: 0.3821 - accuracy: 0.8444\n",
            "Epoch 11/50\n",
            "200/200 [==============================] - 1s 3ms/step - loss: 0.3802 - accuracy: 0.8484\n",
            "Epoch 12/50\n",
            "200/200 [==============================] - 1s 3ms/step - loss: 0.3796 - accuracy: 0.8433\n",
            "Epoch 13/50\n",
            "200/200 [==============================] - 1s 2ms/step - loss: 0.3782 - accuracy: 0.8453\n",
            "Epoch 14/50\n",
            "200/200 [==============================] - 1s 3ms/step - loss: 0.3718 - accuracy: 0.8508\n",
            "Epoch 15/50\n",
            "200/200 [==============================] - 1s 3ms/step - loss: 0.3735 - accuracy: 0.8495\n",
            "Epoch 16/50\n",
            "200/200 [==============================] - 1s 3ms/step - loss: 0.3758 - accuracy: 0.8462\n",
            "Epoch 17/50\n",
            "200/200 [==============================] - 1s 3ms/step - loss: 0.3693 - accuracy: 0.8512\n",
            "Epoch 18/50\n",
            "200/200 [==============================] - 1s 3ms/step - loss: 0.3696 - accuracy: 0.8487\n",
            "Epoch 19/50\n",
            "200/200 [==============================] - 1s 3ms/step - loss: 0.3685 - accuracy: 0.8508\n",
            "Epoch 20/50\n",
            "200/200 [==============================] - 1s 3ms/step - loss: 0.3638 - accuracy: 0.8544\n",
            "Epoch 21/50\n",
            "200/200 [==============================] - 1s 3ms/step - loss: 0.3664 - accuracy: 0.8502\n",
            "Epoch 22/50\n",
            "200/200 [==============================] - 1s 3ms/step - loss: 0.3626 - accuracy: 0.8572\n",
            "Epoch 23/50\n",
            "200/200 [==============================] - 1s 3ms/step - loss: 0.3650 - accuracy: 0.8542\n",
            "Epoch 24/50\n",
            "200/200 [==============================] - 0s 2ms/step - loss: 0.3648 - accuracy: 0.8508\n",
            "Epoch 25/50\n",
            "200/200 [==============================] - 0s 2ms/step - loss: 0.3627 - accuracy: 0.8522\n",
            "Epoch 26/50\n",
            "200/200 [==============================] - 1s 2ms/step - loss: 0.3642 - accuracy: 0.8566\n",
            "Epoch 27/50\n",
            "200/200 [==============================] - 1s 3ms/step - loss: 0.3623 - accuracy: 0.8550\n",
            "Epoch 28/50\n",
            "200/200 [==============================] - 1s 3ms/step - loss: 0.3604 - accuracy: 0.8530\n",
            "Epoch 29/50\n",
            "200/200 [==============================] - 1s 2ms/step - loss: 0.3623 - accuracy: 0.8550\n",
            "Epoch 30/50\n",
            "200/200 [==============================] - 1s 3ms/step - loss: 0.3604 - accuracy: 0.8556\n",
            "Epoch 31/50\n",
            "200/200 [==============================] - 1s 3ms/step - loss: 0.3602 - accuracy: 0.8536\n",
            "Epoch 32/50\n",
            "200/200 [==============================] - 1s 3ms/step - loss: 0.3585 - accuracy: 0.8572\n",
            "Epoch 33/50\n",
            "200/200 [==============================] - 1s 3ms/step - loss: 0.3582 - accuracy: 0.8553\n",
            "Epoch 34/50\n",
            "200/200 [==============================] - 1s 3ms/step - loss: 0.3570 - accuracy: 0.8527\n",
            "Epoch 35/50\n",
            "200/200 [==============================] - 1s 3ms/step - loss: 0.3569 - accuracy: 0.8566\n",
            "Epoch 36/50\n",
            "200/200 [==============================] - 1s 3ms/step - loss: 0.3563 - accuracy: 0.8572\n",
            "Epoch 37/50\n",
            "200/200 [==============================] - 1s 2ms/step - loss: 0.3551 - accuracy: 0.8558\n",
            "Epoch 38/50\n",
            "200/200 [==============================] - 1s 3ms/step - loss: 0.3542 - accuracy: 0.8567\n",
            "Epoch 39/50\n",
            "200/200 [==============================] - 1s 3ms/step - loss: 0.3521 - accuracy: 0.8580\n",
            "Epoch 40/50\n",
            "200/200 [==============================] - 1s 3ms/step - loss: 0.3509 - accuracy: 0.8562\n",
            "Epoch 41/50\n",
            "200/200 [==============================] - 1s 3ms/step - loss: 0.3549 - accuracy: 0.8561\n",
            "Epoch 42/50\n",
            "200/200 [==============================] - 1s 3ms/step - loss: 0.3496 - accuracy: 0.8577\n",
            "Epoch 43/50\n",
            "200/200 [==============================] - 1s 3ms/step - loss: 0.3478 - accuracy: 0.8606\n",
            "Epoch 44/50\n",
            "200/200 [==============================] - 1s 3ms/step - loss: 0.3483 - accuracy: 0.8594\n",
            "Epoch 45/50\n",
            "200/200 [==============================] - 1s 3ms/step - loss: 0.3486 - accuracy: 0.8594\n",
            "Epoch 46/50\n",
            "200/200 [==============================] - 1s 3ms/step - loss: 0.3477 - accuracy: 0.8603\n",
            "Epoch 47/50\n",
            "200/200 [==============================] - 1s 3ms/step - loss: 0.3487 - accuracy: 0.8600\n",
            "Epoch 48/50\n",
            "200/200 [==============================] - 1s 2ms/step - loss: 0.3451 - accuracy: 0.8605\n",
            "Epoch 49/50\n",
            "200/200 [==============================] - 1s 3ms/step - loss: 0.3497 - accuracy: 0.8581\n",
            "Epoch 50/50\n",
            "200/200 [==============================] - 1s 3ms/step - loss: 0.3461 - accuracy: 0.8622\n",
            "50/50 [==============================] - 0s 2ms/step - loss: 0.3638 - accuracy: 0.8519\n"
          ]
        }
      ]
    },
    {
      "cell_type": "code",
      "source": [
        "# Checking the mean and standard deviation of the accuracies obtained\n",
        "mean = accuracies.mean()\n",
        "std_deviation = accuracies.std()\n",
        "print(\"Accuracy: {:.2f} %\".format(mean*100))"
      ],
      "metadata": {
        "colab": {
          "base_uri": "https://localhost:8080/"
        },
        "id": "8UamT6E6Jll-",
        "outputId": "d8f97b6c-2f79-4352-af58-eefce9334239"
      },
      "execution_count": null,
      "outputs": [
        {
          "output_type": "stream",
          "name": "stdout",
          "text": [
            "Accuracy: 85.35 %\n",
            "Standard Deviation: 0.32 %\n"
          ]
        }
      ]
    },
    {
      "cell_type": "code",
      "source": [
        "from sklearn.model_selection import GridSearchCV\n",
        "from keras.layers import BatchNormalization\n",
        "\n",
        "# Builing the function\n",
        "\n",
        "def ann_classifier( optimizer='adam'):\n",
        "    ann = tf.keras.models.Sequential()\n",
        "    ann.add(tf.keras.layers.Dense(10, input_shape = (10, )))\n",
        "    ann.add(Dense(10, kernel_initializer = 'normal', activation = 'relu',))\n",
        "    ann.add(Dense(8, kernel_initializer = 'normal', activation = 'relu',))\n",
        "    ann.add(Dense(6, kernel_initializer = 'normal',activation='relu'))\n",
        "    ann.add(Dropout(rate = 0.1))\n",
        "    ann.add(BatchNormalization())\n",
        "    ann.add(Dense(4, kernel_initializer = 'normal',activation='relu'))\n",
        "    ann.add(Dense(2, kernel_initializer = 'normal',activation='relu')) \n",
        "    ann.add(Dense(2, kernel_initializer = 'normal', activation = 'sigmoid'))\n",
        "    ann.compile(optimizer= 'adam', loss= 'binary_crossentropy', metrics= ['accuracy'])\n",
        "    return ann"
      ],
      "metadata": {
        "id": "Mb41yQffK09J"
      },
      "execution_count": null,
      "outputs": []
    },
    {
      "cell_type": "code",
      "source": [
        "# Passing values to KerasClassifier \n",
        "ann = KerasClassifier(build_fn = ann_classifier, batch_size = 32, epochs = 100)"
      ],
      "metadata": {
        "colab": {
          "base_uri": "https://localhost:8080/"
        },
        "id": "3yWW9tgdLoSU",
        "outputId": "164c75a5-825b-4f60-9e0a-32f1e9a7dd6e"
      },
      "execution_count": null,
      "outputs": [
        {
          "output_type": "stream",
          "name": "stderr",
          "text": [
            "/usr/local/lib/python3.7/dist-packages/ipykernel_launcher.py:2: DeprecationWarning: KerasClassifier is deprecated, use Sci-Keras (https://github.com/adriangb/scikeras) instead. See https://www.adriangb.com/scikeras/stable/migration.html for help migrating.\n",
            "  \n"
          ]
        }
      ]
    },
    {
      "cell_type": "code",
      "source": [
        "# Using Grid Search CV to getting the best parameters\n",
        "parameters = {'batch_size': [25, 32],\n",
        "        'epochs': [50, 100],\n",
        "        'optimizer': ['adam', 'rmsprop']}\n",
        "\n",
        "grid_search = GridSearchCV(estimator = ann, param_grid = parameters, scoring = 'accuracy', cv = 5, n_jobs = -1)\n",
        "\n",
        "grid_search.fit(x_train, y_train)"
      ],
      "metadata": {
        "colab": {
          "base_uri": "https://localhost:8080/"
        },
        "id": "YrNIW16FLqn1",
        "outputId": "7ed7436e-0980-4772-a4c3-14a536677e0a"
      },
      "execution_count": null,
      "outputs": [
        {
          "output_type": "stream",
          "name": "stdout",
          "text": [
            "Epoch 1/50\n"
          ]
        },
        {
          "output_type": "stream",
          "name": "stderr",
          "text": [
            "/usr/local/lib/python3.7/dist-packages/sklearn/model_selection/_search.py:972: UserWarning: One or more of the test scores are non-finite: [nan nan nan nan nan nan nan nan]\n",
            "  category=UserWarning,\n"
          ]
        },
        {
          "output_type": "stream",
          "name": "stdout",
          "text": [
            "320/320 [==============================] - 2s 2ms/step - loss: 0.4922 - accuracy: 0.7959\n",
            "Epoch 2/50\n",
            "320/320 [==============================] - 1s 2ms/step - loss: 0.4367 - accuracy: 0.7960\n",
            "Epoch 3/50\n",
            "320/320 [==============================] - 1s 2ms/step - loss: 0.4179 - accuracy: 0.7962\n",
            "Epoch 4/50\n",
            "320/320 [==============================] - 1s 2ms/step - loss: 0.4010 - accuracy: 0.8284\n",
            "Epoch 5/50\n",
            "320/320 [==============================] - 1s 2ms/step - loss: 0.3985 - accuracy: 0.8341\n",
            "Epoch 6/50\n",
            "320/320 [==============================] - 1s 2ms/step - loss: 0.3902 - accuracy: 0.8409\n",
            "Epoch 7/50\n",
            "320/320 [==============================] - 1s 2ms/step - loss: 0.3822 - accuracy: 0.8431\n",
            "Epoch 8/50\n",
            "320/320 [==============================] - 1s 2ms/step - loss: 0.3773 - accuracy: 0.8481\n",
            "Epoch 9/50\n",
            "320/320 [==============================] - 1s 2ms/step - loss: 0.3738 - accuracy: 0.8496\n",
            "Epoch 10/50\n",
            "320/320 [==============================] - 1s 2ms/step - loss: 0.3667 - accuracy: 0.8535\n",
            "Epoch 11/50\n",
            "320/320 [==============================] - 1s 2ms/step - loss: 0.3666 - accuracy: 0.8534\n",
            "Epoch 12/50\n",
            "320/320 [==============================] - 1s 2ms/step - loss: 0.3622 - accuracy: 0.8543\n",
            "Epoch 13/50\n",
            "320/320 [==============================] - 1s 2ms/step - loss: 0.3599 - accuracy: 0.8560\n",
            "Epoch 14/50\n",
            "320/320 [==============================] - 1s 2ms/step - loss: 0.3619 - accuracy: 0.8524\n",
            "Epoch 15/50\n",
            "320/320 [==============================] - 1s 2ms/step - loss: 0.3575 - accuracy: 0.8540\n",
            "Epoch 16/50\n",
            "320/320 [==============================] - 1s 2ms/step - loss: 0.3580 - accuracy: 0.8535\n",
            "Epoch 17/50\n",
            "320/320 [==============================] - 1s 2ms/step - loss: 0.3540 - accuracy: 0.8571\n",
            "Epoch 18/50\n",
            "320/320 [==============================] - 1s 2ms/step - loss: 0.3560 - accuracy: 0.8561\n",
            "Epoch 19/50\n",
            "320/320 [==============================] - 1s 2ms/step - loss: 0.3570 - accuracy: 0.8541\n",
            "Epoch 20/50\n",
            "320/320 [==============================] - 1s 2ms/step - loss: 0.3603 - accuracy: 0.8522\n",
            "Epoch 21/50\n",
            "320/320 [==============================] - 1s 2ms/step - loss: 0.3536 - accuracy: 0.8564\n",
            "Epoch 22/50\n",
            "320/320 [==============================] - 1s 2ms/step - loss: 0.3539 - accuracy: 0.8545\n",
            "Epoch 23/50\n",
            "320/320 [==============================] - 1s 2ms/step - loss: 0.3483 - accuracy: 0.8591\n",
            "Epoch 24/50\n",
            "320/320 [==============================] - 1s 2ms/step - loss: 0.3506 - accuracy: 0.8560\n",
            "Epoch 25/50\n",
            "320/320 [==============================] - 1s 2ms/step - loss: 0.3510 - accuracy: 0.8569\n",
            "Epoch 26/50\n",
            "320/320 [==============================] - 1s 3ms/step - loss: 0.3524 - accuracy: 0.8539\n",
            "Epoch 27/50\n",
            "320/320 [==============================] - 1s 2ms/step - loss: 0.3485 - accuracy: 0.8597\n",
            "Epoch 28/50\n",
            "320/320 [==============================] - 1s 2ms/step - loss: 0.3526 - accuracy: 0.8579\n",
            "Epoch 29/50\n",
            "320/320 [==============================] - 1s 2ms/step - loss: 0.3515 - accuracy: 0.8579\n",
            "Epoch 30/50\n",
            "320/320 [==============================] - 1s 2ms/step - loss: 0.3509 - accuracy: 0.8564\n",
            "Epoch 31/50\n",
            "320/320 [==============================] - 1s 2ms/step - loss: 0.3505 - accuracy: 0.8590\n",
            "Epoch 32/50\n",
            "320/320 [==============================] - 1s 3ms/step - loss: 0.3479 - accuracy: 0.8558\n",
            "Epoch 33/50\n",
            "320/320 [==============================] - 1s 2ms/step - loss: 0.3487 - accuracy: 0.8544\n",
            "Epoch 34/50\n",
            "320/320 [==============================] - 1s 3ms/step - loss: 0.3477 - accuracy: 0.8572\n",
            "Epoch 35/50\n",
            "320/320 [==============================] - 1s 2ms/step - loss: 0.3514 - accuracy: 0.8585\n",
            "Epoch 36/50\n",
            "320/320 [==============================] - 1s 2ms/step - loss: 0.3478 - accuracy: 0.8580\n",
            "Epoch 37/50\n",
            "320/320 [==============================] - 1s 2ms/step - loss: 0.3506 - accuracy: 0.8597\n",
            "Epoch 38/50\n",
            "320/320 [==============================] - 1s 2ms/step - loss: 0.3492 - accuracy: 0.8589\n",
            "Epoch 39/50\n",
            "320/320 [==============================] - 1s 2ms/step - loss: 0.3501 - accuracy: 0.8601\n",
            "Epoch 40/50\n",
            "320/320 [==============================] - 1s 2ms/step - loss: 0.3472 - accuracy: 0.8616\n",
            "Epoch 41/50\n",
            "320/320 [==============================] - 1s 2ms/step - loss: 0.3458 - accuracy: 0.8597\n",
            "Epoch 42/50\n",
            "320/320 [==============================] - 1s 2ms/step - loss: 0.3467 - accuracy: 0.8593\n",
            "Epoch 43/50\n",
            "320/320 [==============================] - 1s 2ms/step - loss: 0.3459 - accuracy: 0.8583\n",
            "Epoch 44/50\n",
            "320/320 [==============================] - 1s 2ms/step - loss: 0.3487 - accuracy: 0.8579\n",
            "Epoch 45/50\n",
            "320/320 [==============================] - 1s 2ms/step - loss: 0.3426 - accuracy: 0.8626\n",
            "Epoch 46/50\n",
            "320/320 [==============================] - 1s 2ms/step - loss: 0.3449 - accuracy: 0.8595\n",
            "Epoch 47/50\n",
            "320/320 [==============================] - 1s 2ms/step - loss: 0.3455 - accuracy: 0.8572\n",
            "Epoch 48/50\n",
            "320/320 [==============================] - 1s 2ms/step - loss: 0.3450 - accuracy: 0.8597\n",
            "Epoch 49/50\n",
            "320/320 [==============================] - 1s 2ms/step - loss: 0.3439 - accuracy: 0.8605\n",
            "Epoch 50/50\n",
            "320/320 [==============================] - 1s 2ms/step - loss: 0.3463 - accuracy: 0.8596\n"
          ]
        },
        {
          "output_type": "execute_result",
          "data": {
            "text/plain": [
              "GridSearchCV(cv=5,\n",
              "             estimator=<keras.wrappers.scikit_learn.KerasClassifier object at 0x7f9ddd90e450>,\n",
              "             n_jobs=-1,\n",
              "             param_grid={'batch_size': [25, 32], 'epochs': [50, 100],\n",
              "                         'optimizer': ['adam', 'rmsprop']},\n",
              "             scoring='accuracy')"
            ]
          },
          "metadata": {},
          "execution_count": 24
        }
      ]
    },
    {
      "cell_type": "code",
      "source": [],
      "metadata": {
        "id": "VyRkU8vuNi7v"
      },
      "execution_count": null,
      "outputs": []
    },
    {
      "cell_type": "code",
      "source": [
        "best_accuracy = grid_search.best_score_\n",
        "best_parameters = grid_search.best_params_"
      ],
      "metadata": {
        "id": "kBPWwwljMHj9"
      },
      "execution_count": null,
      "outputs": []
    },
    {
      "cell_type": "code",
      "source": [
        "print(\"Best Accuracy: {:.2f} %\".format(best_accuracy*100))\n",
        "print(\"Best Parameters:\", best_parameters)"
      ],
      "metadata": {
        "id": "cU0yk7ZeXfz0",
        "colab": {
          "base_uri": "https://localhost:8080/"
        },
        "outputId": "e0e4ca75-5242-4a77-c9f8-a1a036427008"
      },
      "execution_count": null,
      "outputs": [
        {
          "output_type": "stream",
          "name": "stdout",
          "text": [
            "Best Accuracy: nan %\n",
            "Best Parameters: {'batch_size': 25, 'epochs': 50, 'optimizer': 'adam'}\n"
          ]
        }
      ]
    },
    {
      "cell_type": "code",
      "source": [
        "# defining the layers\n",
        "from keras.wrappers.scikit_learn import KerasClassifier\n",
        "model_tunned = Sequential()\n",
        "model_tunned.add(Dense(10, input_shape = (10, )))\n",
        "model_tunned.add(Dense(10, kernel_initializer = 'normal', activation = 'relu',))\n",
        "model_tunned.add(Dense(8, kernel_initializer = 'normal', activation = 'relu'))\n",
        "model_tunned.add(Dense(6, kernel_initializer = 'normal',activation='relu'))\n",
        "model_tunned.add(Dropout(rate = 0.1))\n",
        "model_tunned.add(BatchNormalization())\n",
        "model_tunned.add(Dense(4, kernel_initializer = 'normal',activation='relu'))\n",
        "model_tunned.add(Dense(2, kernel_initializer = 'normal',activation='relu'))\n",
        "model_tunned.add(Dense(1, kernel_initializer = 'normal', activation = 'sigmoid'))\n",
        "model_tunned.compile(optimizer = 'adam', loss = 'binary_crossentropy', metrics = ['accuracy'])\n",
        "anntunned_history =model_tunned.fit(x_train, y_train, batch_size= 25, epochs= 50, validation_split= 0.3)\n"
      ],
      "metadata": {
        "colab": {
          "base_uri": "https://localhost:8080/"
        },
        "id": "UqCnaLbmNj9K",
        "outputId": "94faadfa-0a9a-4829-a060-b78024dbf7eb"
      },
      "execution_count": 65,
      "outputs": [
        {
          "output_type": "stream",
          "name": "stdout",
          "text": [
            "Epoch 1/50\n",
            "224/224 [==============================] - 3s 5ms/step - loss: 0.5186 - accuracy: 0.7948 - val_loss: 0.4999 - val_accuracy: 0.7958\n",
            "Epoch 2/50\n",
            "224/224 [==============================] - 1s 4ms/step - loss: 0.4231 - accuracy: 0.7961 - val_loss: 0.4381 - val_accuracy: 0.7958\n",
            "Epoch 3/50\n",
            "224/224 [==============================] - 1s 4ms/step - loss: 0.4076 - accuracy: 0.7961 - val_loss: 0.3977 - val_accuracy: 0.7958\n",
            "Epoch 4/50\n",
            "224/224 [==============================] - 1s 4ms/step - loss: 0.3957 - accuracy: 0.8037 - val_loss: 0.3957 - val_accuracy: 0.8454\n",
            "Epoch 5/50\n",
            "224/224 [==============================] - 1s 4ms/step - loss: 0.3906 - accuracy: 0.8427 - val_loss: 0.3962 - val_accuracy: 0.8375\n",
            "Epoch 6/50\n",
            "224/224 [==============================] - 1s 4ms/step - loss: 0.3851 - accuracy: 0.8395 - val_loss: 0.3874 - val_accuracy: 0.8421\n",
            "Epoch 7/50\n",
            "224/224 [==============================] - 1s 3ms/step - loss: 0.3795 - accuracy: 0.8487 - val_loss: 0.3808 - val_accuracy: 0.8483\n",
            "Epoch 8/50\n",
            "224/224 [==============================] - 1s 3ms/step - loss: 0.3787 - accuracy: 0.8479 - val_loss: 0.3806 - val_accuracy: 0.8500\n",
            "Epoch 9/50\n",
            "224/224 [==============================] - 1s 4ms/step - loss: 0.3768 - accuracy: 0.8532 - val_loss: 0.3762 - val_accuracy: 0.8521\n",
            "Epoch 10/50\n",
            "224/224 [==============================] - 1s 4ms/step - loss: 0.3702 - accuracy: 0.8536 - val_loss: 0.3810 - val_accuracy: 0.8446\n",
            "Epoch 11/50\n",
            "224/224 [==============================] - 1s 4ms/step - loss: 0.3684 - accuracy: 0.8496 - val_loss: 0.3704 - val_accuracy: 0.8525\n",
            "Epoch 12/50\n",
            "224/224 [==============================] - 1s 4ms/step - loss: 0.3669 - accuracy: 0.8552 - val_loss: 0.3677 - val_accuracy: 0.8529\n",
            "Epoch 13/50\n",
            "224/224 [==============================] - 1s 4ms/step - loss: 0.3666 - accuracy: 0.8520 - val_loss: 0.3712 - val_accuracy: 0.8529\n",
            "Epoch 14/50\n",
            "224/224 [==============================] - 1s 4ms/step - loss: 0.3655 - accuracy: 0.8562 - val_loss: 0.3653 - val_accuracy: 0.8575\n",
            "Epoch 15/50\n",
            "224/224 [==============================] - 1s 3ms/step - loss: 0.3643 - accuracy: 0.8527 - val_loss: 0.3787 - val_accuracy: 0.8458\n",
            "Epoch 16/50\n",
            "224/224 [==============================] - 1s 3ms/step - loss: 0.3630 - accuracy: 0.8602 - val_loss: 0.3649 - val_accuracy: 0.8542\n",
            "Epoch 17/50\n",
            "224/224 [==============================] - 1s 4ms/step - loss: 0.3609 - accuracy: 0.8566 - val_loss: 0.3653 - val_accuracy: 0.8533\n",
            "Epoch 18/50\n",
            "224/224 [==============================] - 1s 4ms/step - loss: 0.3573 - accuracy: 0.8554 - val_loss: 0.3678 - val_accuracy: 0.8579\n",
            "Epoch 19/50\n",
            "224/224 [==============================] - 1s 4ms/step - loss: 0.3630 - accuracy: 0.8552 - val_loss: 0.3687 - val_accuracy: 0.8492\n",
            "Epoch 20/50\n",
            "224/224 [==============================] - 1s 4ms/step - loss: 0.3579 - accuracy: 0.8571 - val_loss: 0.3762 - val_accuracy: 0.8421\n",
            "Epoch 21/50\n",
            "224/224 [==============================] - 1s 4ms/step - loss: 0.3606 - accuracy: 0.8605 - val_loss: 0.3642 - val_accuracy: 0.8554\n",
            "Epoch 22/50\n",
            "224/224 [==============================] - 1s 4ms/step - loss: 0.3541 - accuracy: 0.8568 - val_loss: 0.3641 - val_accuracy: 0.8558\n",
            "Epoch 23/50\n",
            "224/224 [==============================] - 1s 4ms/step - loss: 0.3568 - accuracy: 0.8612 - val_loss: 0.3706 - val_accuracy: 0.8521\n",
            "Epoch 24/50\n",
            "224/224 [==============================] - 1s 4ms/step - loss: 0.3508 - accuracy: 0.8596 - val_loss: 0.3671 - val_accuracy: 0.8521\n",
            "Epoch 25/50\n",
            "224/224 [==============================] - 1s 4ms/step - loss: 0.3511 - accuracy: 0.8598 - val_loss: 0.3662 - val_accuracy: 0.8529\n",
            "Epoch 26/50\n",
            "224/224 [==============================] - 1s 4ms/step - loss: 0.3536 - accuracy: 0.8554 - val_loss: 0.3674 - val_accuracy: 0.8521\n",
            "Epoch 27/50\n",
            "224/224 [==============================] - 1s 4ms/step - loss: 0.3509 - accuracy: 0.8557 - val_loss: 0.3650 - val_accuracy: 0.8529\n",
            "Epoch 28/50\n",
            "224/224 [==============================] - 1s 4ms/step - loss: 0.3523 - accuracy: 0.8605 - val_loss: 0.3648 - val_accuracy: 0.8612\n",
            "Epoch 29/50\n",
            "224/224 [==============================] - 1s 4ms/step - loss: 0.3542 - accuracy: 0.8596 - val_loss: 0.3571 - val_accuracy: 0.8587\n",
            "Epoch 30/50\n",
            "224/224 [==============================] - 1s 4ms/step - loss: 0.3489 - accuracy: 0.8584 - val_loss: 0.3611 - val_accuracy: 0.8567\n",
            "Epoch 31/50\n",
            "224/224 [==============================] - 1s 4ms/step - loss: 0.3455 - accuracy: 0.8609 - val_loss: 0.3633 - val_accuracy: 0.8558\n",
            "Epoch 32/50\n",
            "224/224 [==============================] - 1s 5ms/step - loss: 0.3487 - accuracy: 0.8605 - val_loss: 0.3559 - val_accuracy: 0.8612\n",
            "Epoch 33/50\n",
            "224/224 [==============================] - 1s 4ms/step - loss: 0.3466 - accuracy: 0.8609 - val_loss: 0.3562 - val_accuracy: 0.8587\n",
            "Epoch 34/50\n",
            "224/224 [==============================] - 1s 4ms/step - loss: 0.3472 - accuracy: 0.8621 - val_loss: 0.3631 - val_accuracy: 0.8554\n",
            "Epoch 35/50\n",
            "224/224 [==============================] - 1s 4ms/step - loss: 0.3472 - accuracy: 0.8616 - val_loss: 0.3564 - val_accuracy: 0.8592\n",
            "Epoch 36/50\n",
            "224/224 [==============================] - 1s 4ms/step - loss: 0.3477 - accuracy: 0.8614 - val_loss: 0.3606 - val_accuracy: 0.8558\n",
            "Epoch 37/50\n",
            "224/224 [==============================] - 1s 4ms/step - loss: 0.3460 - accuracy: 0.8648 - val_loss: 0.3630 - val_accuracy: 0.8517\n",
            "Epoch 38/50\n",
            "224/224 [==============================] - 1s 4ms/step - loss: 0.3473 - accuracy: 0.8584 - val_loss: 0.3632 - val_accuracy: 0.8525\n",
            "Epoch 39/50\n",
            "224/224 [==============================] - 1s 4ms/step - loss: 0.3518 - accuracy: 0.8598 - val_loss: 0.3558 - val_accuracy: 0.8617\n",
            "Epoch 40/50\n",
            "224/224 [==============================] - 1s 4ms/step - loss: 0.3502 - accuracy: 0.8600 - val_loss: 0.3565 - val_accuracy: 0.8608\n",
            "Epoch 41/50\n",
            "224/224 [==============================] - 1s 4ms/step - loss: 0.3461 - accuracy: 0.8614 - val_loss: 0.3589 - val_accuracy: 0.8533\n",
            "Epoch 42/50\n",
            "224/224 [==============================] - 1s 4ms/step - loss: 0.3461 - accuracy: 0.8582 - val_loss: 0.3568 - val_accuracy: 0.8604\n",
            "Epoch 43/50\n",
            "224/224 [==============================] - 1s 4ms/step - loss: 0.3432 - accuracy: 0.8568 - val_loss: 0.3624 - val_accuracy: 0.8508\n",
            "Epoch 44/50\n",
            "224/224 [==============================] - 1s 3ms/step - loss: 0.3414 - accuracy: 0.8620 - val_loss: 0.3581 - val_accuracy: 0.8583\n",
            "Epoch 45/50\n",
            "224/224 [==============================] - 1s 4ms/step - loss: 0.3437 - accuracy: 0.8650 - val_loss: 0.3571 - val_accuracy: 0.8571\n",
            "Epoch 46/50\n",
            "224/224 [==============================] - 1s 4ms/step - loss: 0.3425 - accuracy: 0.8614 - val_loss: 0.3556 - val_accuracy: 0.8546\n",
            "Epoch 47/50\n",
            "224/224 [==============================] - 1s 6ms/step - loss: 0.3412 - accuracy: 0.8645 - val_loss: 0.3541 - val_accuracy: 0.8579\n",
            "Epoch 48/50\n",
            "224/224 [==============================] - 2s 7ms/step - loss: 0.3419 - accuracy: 0.8614 - val_loss: 0.3548 - val_accuracy: 0.8567\n",
            "Epoch 49/50\n",
            "224/224 [==============================] - 1s 7ms/step - loss: 0.3434 - accuracy: 0.8604 - val_loss: 0.3563 - val_accuracy: 0.8571\n",
            "Epoch 50/50\n",
            "224/224 [==============================] - 2s 7ms/step - loss: 0.3404 - accuracy: 0.8604 - val_loss: 0.3564 - val_accuracy: 0.8587\n"
          ]
        }
      ]
    },
    {
      "cell_type": "code",
      "source": [
        "plt.figure(figsize = (12, 6))\n",
        "\n",
        "train_loss = anntunned_history.history['loss']\n",
        "val_loss = anntunned_history.history['val_loss'] \n",
        "epoch = range(1, 51)\n",
        "sns.lineplot(epoch, train_loss, label = 'Training Loss')\n",
        "sns.lineplot(epoch, val_loss, label = 'Validation Loss')\n",
        "plt.title('Training and Validation Loss\\n')\n",
        "plt.xlabel('Epochs')\n",
        "plt.ylabel('Loss')\n",
        "plt.legend()\n",
        "plt.show()"
      ],
      "metadata": {
        "colab": {
          "base_uri": "https://localhost:8080/",
          "height": 507
        },
        "id": "AaU-1-B9D0af",
        "outputId": "96974446-c2bf-4578-945a-ce618b77ad34"
      },
      "execution_count": 66,
      "outputs": [
        {
          "output_type": "stream",
          "name": "stderr",
          "text": [
            "/usr/local/lib/python3.7/dist-packages/seaborn/_decorators.py:43: FutureWarning: Pass the following variables as keyword args: x, y. From version 0.12, the only valid positional argument will be `data`, and passing other arguments without an explicit keyword will result in an error or misinterpretation.\n",
            "  FutureWarning\n",
            "/usr/local/lib/python3.7/dist-packages/seaborn/_decorators.py:43: FutureWarning: Pass the following variables as keyword args: x, y. From version 0.12, the only valid positional argument will be `data`, and passing other arguments without an explicit keyword will result in an error or misinterpretation.\n",
            "  FutureWarning\n"
          ]
        },
        {
          "output_type": "display_data",
          "data": {
            "text/plain": [
              "<Figure size 864x432 with 1 Axes>"
            ],
            "image/png": "[encoded data removed]"
          },
          "metadata": {
            "needs_background": "light"
          }
        }
      ]
    },
    {
      "cell_type": "code",
      "source": [
        "plt.figure(figsize = (12, 6))\n",
        "\n",
        "train_loss = anntunned_history.history['accuracy']\n",
        "val_loss = anntunned_history.history['val_accuracy'] \n",
        "epoch = range(1,51)\n",
        "sns.lineplot(epoch, train_loss, label = 'Training accuracy')\n",
        "sns.lineplot(epoch, val_loss, label = 'Validation accuracy')\n",
        "plt.title('Training and Validation Accuracy\\n')\n",
        "plt.xlabel('Epochs')\n",
        "plt.ylabel('Accuracy')\n",
        "plt.legend()\n",
        "plt.show()"
      ],
      "metadata": {
        "id": "upGctddOD56D",
        "colab": {
          "base_uri": "https://localhost:8080/",
          "height": 507
        },
        "outputId": "8b5002c0-f033-4903-d5b0-a44b8d2fb1bf"
      },
      "execution_count": 67,
      "outputs": [
        {
          "output_type": "stream",
          "name": "stderr",
          "text": [
            "/usr/local/lib/python3.7/dist-packages/seaborn/_decorators.py:43: FutureWarning: Pass the following variables as keyword args: x, y. From version 0.12, the only valid positional argument will be `data`, and passing other arguments without an explicit keyword will result in an error or misinterpretation.\n",
            "  FutureWarning\n",
            "/usr/local/lib/python3.7/dist-packages/seaborn/_decorators.py:43: FutureWarning: Pass the following variables as keyword args: x, y. From version 0.12, the only valid positional argument will be `data`, and passing other arguments without an explicit keyword will result in an error or misinterpretation.\n",
            "  FutureWarning\n"
          ]
        },
        {
          "output_type": "display_data",
          "data": {
            "text/plain": [
              "<Figure size 864x432 with 1 Axes>"
            ],
            "image/png": "[encoded data removed]"
          },
          "metadata": {
            "needs_background": "light"
          }
        }
      ]
    },
    {
      "cell_type": "code",
      "source": [
        "# Predicting the Test set results\n",
        "y_pred = model_tunned.predict(x_test)\n",
        "y_pred = (y_pred > 0.5)\n",
        "# Calculate the Accuracy\n",
        "accuracy = accuracy_score(y_pred,y_test)"
      ],
      "metadata": {
        "id": "vNdnCfF8OhNV",
        "colab": {
          "base_uri": "https://localhost:8080/"
        },
        "outputId": "ced29e48-bbd2-46ea-f313-59877b0223ec"
      },
      "execution_count": 68,
      "outputs": [
        {
          "output_type": "stream",
          "name": "stdout",
          "text": [
            "63/63 [==============================] - 0s 4ms/step\n"
          ]
        }
      ]
    },
    {
      "cell_type": "code",
      "source": [
        "# Making the Confusion Matrix\n",
        "from sklearn.metrics import confusion_matrix\n",
        "cm = confusion_matrix(y_test, y_pred)\n",
        "print(cm)"
      ],
      "metadata": {
        "id": "YUWUtgdCtVdt",
        "colab": {
          "base_uri": "https://localhost:8080/"
        },
        "outputId": "ac0de6a7-8005-47d5-f13a-cfdc3a237421"
      },
      "execution_count": 69,
      "outputs": [
        {
          "output_type": "stream",
          "name": "stdout",
          "text": [
            "[[1535   60]\n",
            " [ 207  198]]\n"
          ]
        }
      ]
    },
    {
      "cell_type": "code",
      "source": [
        "print('Accuracy after tuning the FFNN:', (accuracy)*100,'%')"
      ],
      "metadata": {
        "id": "NnyELeYGOBGP",
        "colab": {
          "base_uri": "https://localhost:8080/"
        },
        "outputId": "f4ff4b6c-3162-4e48-c21e-b3198b0d16e9"
      },
      "execution_count": 70,
      "outputs": [
        {
          "output_type": "stream",
          "name": "stdout",
          "text": [
            "Accuracy after tuning the FFNN: 86.65 %\n"
          ]
        }
      ]
    },
    {
      "cell_type": "code",
      "source": [
        "from sklearn.metrics import accuracy_score, mean_squared_error, classification_report\n",
        "accuracy = round(accuracy_score(y_test, y_pred) * 100, 2)\n",
        "rmse = np.sqrt(mean_squared_error(y_test, y_pred))\n",
        "report = classification_report(y_test, y_pred)\n",
        "print(\"The Classification report is as follows::\\n\", report)"
      ],
      "metadata": {
        "colab": {
          "base_uri": "https://localhost:8080/"
        },
        "id": "m_oRdvpQucRM",
        "outputId": "ab624b40-f006-445f-8dba-23dafb917455"
      },
      "execution_count": 71,
      "outputs": [
        {
          "output_type": "stream",
          "name": "stdout",
          "text": [
            "The Classification report is as follows::\n",
            "               precision    recall  f1-score   support\n",
            "\n",
            "           0       0.88      0.96      0.92      1595\n",
            "           1       0.77      0.49      0.60       405\n",
            "\n",
            "    accuracy                           0.87      2000\n",
            "   macro avg       0.82      0.73      0.76      2000\n",
            "weighted avg       0.86      0.87      0.85      2000\n",
            "\n"
          ]
        }
      ]
    },
    {
      "cell_type": "code",
      "source": [
        "import seaborn as sns\n",
        "import matplotlib.pyplot as plt\n",
        "plt.figure(figsize = (10, 8))\n",
        "sns.heatmap(cm, annot = True, fmt = '.0f', linewidths = .5, square = True)\n",
        "plt.xlabel('Predicted labels')\n",
        "plt.title('Accuracy: {0}'.format(round(accuracy, 2)))\n",
        "plt.ylabel('Actual labels')\n",
        "plt.show()"
      ],
      "metadata": {
        "colab": {
          "base_uri": "https://localhost:8080/",
          "height": 513
        },
        "id": "e_UN6mBDueAY",
        "outputId": "c6637e12-1a05-4ab4-c40f-7d6660906e1a"
      },
      "execution_count": 72,
      "outputs": [
        {
          "output_type": "display_data",
          "data": {
            "text/plain": [
              "<Figure size 720x576 with 2 Axes>"
            ],
            "image/png": "[encoded data removed]"
          },
          "metadata": {
            "needs_background": "light"
          }
        }
      ]
    }
  ]
}